{
 "cells": [
  {
   "cell_type": "markdown",
   "id": "f6943fd8",
   "metadata": {},
   "source": [
    "## Import necessary libraries"
   ]
  },
  {
   "cell_type": "code",
   "execution_count": 4,
   "id": "3874b0eb",
   "metadata": {},
   "outputs": [],
   "source": [
    "import pandas as pd\n",
    "from sklearn.model_selection import train_test_split\n",
    "from sklearn.metrics import accuracy_score"
   ]
  },
  {
   "cell_type": "markdown",
   "id": "76eb135e",
   "metadata": {},
   "source": [
    "**<font color=\"red\" size=4>Import the classifiers (Decision tree, Random Forest and Bagging)<font>**\n",
    "- <font color=\"red\" size=4> **Note:** Make sure to import base estimator classifier for Baggingclassifier\n",
    "</font>"
   ]
  },
  {
   "cell_type": "code",
   "execution_count": 5,
   "id": "38bb8d94",
   "metadata": {},
   "outputs": [],
   "source": [
    "# your code here"
   ]
  },
  {
   "cell_type": "markdown",
   "id": "ad914b20",
   "metadata": {},
   "source": [
    "## Create a list to hold the names of csv files"
   ]
  },
  {
   "cell_type": "code",
   "execution_count": null,
   "id": "5540f178",
   "metadata": {},
   "outputs": [],
   "source": [
    "csv_names = ['BankNote_Authentication.csv', 'diabetes.csv', 'seeds.csv']"
   ]
  },
  {
   "cell_type": "markdown",
   "id": "b1db3f54",
   "metadata": {},
   "source": [
    "**<font color=\"red\" size=4>Now make 3 lists to hold accuracies for each classifier</font>**"
   ]
  },
  {
   "cell_type": "code",
   "execution_count": 6,
   "id": "908c07b1",
   "metadata": {},
   "outputs": [],
   "source": [
    "# your code here"
   ]
  },
  {
   "cell_type": "markdown",
   "id": "c9e10cbf",
   "metadata": {},
   "source": [
    "## Create a function that :\n",
    "- **takes in a csv file name as parameter**\n",
    "- **loads tha dataset**\n",
    "- **splits data into X and y**\n",
    "- **performs train_test_split**\n",
    "- **returns the train and test data**"
   ]
  },
  {
   "cell_type": "code",
   "execution_count": null,
   "id": "a1baddd6",
   "metadata": {},
   "outputs": [],
   "source": [
    "# **NOTE** Imports necessary for these actions (pandas and train_test_split) has been done before \n",
    "\n",
    "def processing(csv):\n",
    "    dataset= pd.read_csv(csv)  \n",
    "    X = dataset.iloc[:, :-1].values\n",
    "    y = dataset.iloc[:, -1].values\n",
    "    \n",
    "    X_tr, X_te, y_tr, y_te = train_test_split(X, y, test_size = 0.25,random_state=0)\n",
    "    \n",
    "    return X_tr, X_te, y_tr, y_te"
   ]
  },
  {
   "cell_type": "markdown",
   "id": "fdf89303",
   "metadata": {},
   "source": [
    "**<font color=\"red\" size=4>Now use the example for the funtion shown above and online resources to create your own prediction function that: </font>**\n",
    "- <font color=\"red\" size=4> Takes in a classifier and the train and test data as parameters</font>\n",
    "- <font color=\"red\" size=4> Fits the classifier with X_train and y_train</font>\n",
    "- <font color=\"red\" size=4> Predicts with X_test</font>\n",
    "- <font color=\"red\" size=4> Calculates accuracy</font>\n",
    "- <font color=\"red\" size=4> Returns accuracy rounded to 6 decimal digits</font>"
   ]
  },
  {
   "cell_type": "code",
   "execution_count": 3,
   "id": "16a7f600",
   "metadata": {},
   "outputs": [],
   "source": [
    "# your code here"
   ]
  },
  {
   "cell_type": "markdown",
   "id": "17aa7208",
   "metadata": {},
   "source": [
    "**<font color=\"red\" size=4>For the rest of your lab, you will write a code that,</font>**\n",
    "- <font color=\"red\" size=4> 'for' each dataset</font>\n",
    "- <font color=\"red\" size=4> Computes accuracy for 5 runs for each classifier</font>\n",
    "\n",
    "**<font color=\"red\" size=4> and prints out the following:</font>** \n",
    "- <font color=\"red\" size=4> all 5 accuracies for each 3 classifiers</font>\n",
    "- <font color=\"red\" size=4> average accuracy for each classifier</font>\n",
    "- <font color=\"red\" size=4> how many times each classifier won out of 5 runs (RFvDT, RFvBC, BCvDT)</font>\n",
    "\n",
    "**Follow the steps in the cell below**"
   ]
  },
  {
   "cell_type": "code",
   "execution_count": null,
   "id": "54d2f9ab",
   "metadata": {},
   "outputs": [],
   "source": [
    "# For each dataset\n",
    "    # get train and test data (call the processing function with the right csv name index)\n",
    "    \n",
    "    # For i = 0-5\n",
    "        \n",
    "        # get accuracy for decision tree (call your function)\n",
    "        # add DT accuracy to the correct accuracy list\n",
    "        \n",
    "        # get accuracy for random forest \n",
    "        # add RF accuracy to the correct accuracy list\n",
    "        \n",
    "        # get accuracy for bagging classifier\n",
    "        # add BC accuracy to the correct accuracy list\n",
    "        \n",
    "        # figure out ways to calculate average accuracy and number of wins\n",
    "        # (add whatever extra things you need for that calculation)\n",
    "    \n",
    "    # print dataset number (i)\n",
    "    \n",
    "    # print all 5 accuracies for decision tree\n",
    "    # print avg accuracy for decision tree\n",
    "    \n",
    "    # print all 5 accuracies for random forest\n",
    "    # print avg accuracy for random forest\n",
    "    \n",
    "    # print all 5 accuracies for bagging\n",
    "    # print avg accuracy for bagging\n",
    "    \n",
    "    # print Random Forest vs Decision Tree: wins/5\n",
    "    # print Random Forest vs Decision Tree: wins/5\n",
    "    # print Random Forest vs Decision Tree: wins/5\n",
    "    "
   ]
  }
 ],
 "metadata": {
  "kernelspec": {
   "display_name": "Python 3 (ipykernel)",
   "language": "python",
   "name": "python3"
  },
  "language_info": {
   "codemirror_mode": {
    "name": "ipython",
    "version": 3
   },
   "file_extension": ".py",
   "mimetype": "text/x-python",
   "name": "python",
   "nbconvert_exporter": "python",
   "pygments_lexer": "ipython3",
   "version": "3.9.7"
  }
 },
 "nbformat": 4,
 "nbformat_minor": 5
}
