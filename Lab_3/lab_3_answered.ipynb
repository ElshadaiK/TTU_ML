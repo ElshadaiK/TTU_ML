{
 "cells": [
  {
   "cell_type": "markdown",
   "metadata": {},
   "source": [
    "# Linear Regression"
   ]
  },
  {
   "cell_type": "markdown",
   "metadata": {},
   "source": [
    "Establish a linear relationship between the input variables(**X**) and single output variable(**Y**). \n",
    "\n",
    "**Simple Linear Regression**\n",
    "- When the input(**X**) is a single variable. \n",
    "\n",
    "**Multiple Linear Regression**.\n",
    "- When there are mutiple input variables(**X**)\n",
    "\n",
    "## Simple Linear Regression\n",
    "\n",
    "### Model Representation\n",
    "\n",
    "In this problem we have an input variable - **X** and one output variable - **Y**. And we want to build linear relationship between these variables. We can define this linear relationship as follows:\n",
    "\n",
    "\\\\[Y = \\beta_0 + \\beta_1X\\\\]\n",
    "\n",
    "The \\\\(\\beta_1\\\\) is called a scale factor or **coefficient** and \\\\(\\beta_0\\\\) is called **bias coefficient**. This equation is similar to the line equation \\\\(y = mx + b\\\\) with \\\\(m = \\beta_1\\\\)(Slope) and \\\\(b = \\beta_0\\\\)(Intercept). So in this Simple Linear Regression model we want to draw a line between X and Y which estimates the relationship between X and Y.\n",
    "\n",
    "We can find those coefficients  using different approaches. \n",
    "\n",
    "- **Ordinary Least Square Method** \n",
    "\n",
    "- **Gradient Descent Approach**. \n",
    "\n",
    "## **Ordinary Least Square Method** \n",
    "\n",
    "Model is,\n",
    "\n",
    "\\\\[Y = \\beta_0 + \\beta_1X\\\\]\n",
    "\n",
    "\\\\[\\beta_1 = \\frac{\\sum_{i=1}^{m} (x_i - \\bar{x})(y_i - \\bar{y})}{\\sum_{i=1}^{m} (x_i - \\bar{x})^2}\\\\]\n",
    "\n",
    "\\\\[\\beta_0 = \\bar{y} - \\beta_1\\bar{x}\\\\]"
   ]
  },
  {
   "cell_type": "code",
   "execution_count": 1,
   "metadata": {},
   "outputs": [],
   "source": [
    "# Importing library\n",
    "import numpy as np\n",
    "import pandas as pd\n",
    "import matplotlib.pyplot as plt\n",
    "plt.rcParams['figure.figsize'] = (20.0, 10.0) # Specifying  figure size"
   ]
  },
  {
   "cell_type": "code",
   "execution_count": 2,
   "metadata": {},
   "outputs": [
    {
     "data": {
      "text/html": [
       "<div>\n",
       "<style scoped>\n",
       "    .dataframe tbody tr th:only-of-type {\n",
       "        vertical-align: middle;\n",
       "    }\n",
       "\n",
       "    .dataframe tbody tr th {\n",
       "        vertical-align: top;\n",
       "    }\n",
       "\n",
       "    .dataframe thead th {\n",
       "        text-align: right;\n",
       "    }\n",
       "</style>\n",
       "<table border=\"1\" class=\"dataframe\">\n",
       "  <thead>\n",
       "    <tr style=\"text-align: right;\">\n",
       "      <th></th>\n",
       "      <th>Gender</th>\n",
       "      <th>Age Range</th>\n",
       "      <th>Size</th>\n",
       "      <th>Weight</th>\n",
       "    </tr>\n",
       "  </thead>\n",
       "  <tbody>\n",
       "    <tr>\n",
       "      <th>0</th>\n",
       "      <td>1</td>\n",
       "      <td>1</td>\n",
       "      <td>4512</td>\n",
       "      <td>1530</td>\n",
       "    </tr>\n",
       "    <tr>\n",
       "      <th>1</th>\n",
       "      <td>1</td>\n",
       "      <td>1</td>\n",
       "      <td>3738</td>\n",
       "      <td>1297</td>\n",
       "    </tr>\n",
       "    <tr>\n",
       "      <th>2</th>\n",
       "      <td>1</td>\n",
       "      <td>1</td>\n",
       "      <td>4261</td>\n",
       "      <td>1335</td>\n",
       "    </tr>\n",
       "    <tr>\n",
       "      <th>3</th>\n",
       "      <td>1</td>\n",
       "      <td>1</td>\n",
       "      <td>3777</td>\n",
       "      <td>1282</td>\n",
       "    </tr>\n",
       "    <tr>\n",
       "      <th>4</th>\n",
       "      <td>1</td>\n",
       "      <td>1</td>\n",
       "      <td>4177</td>\n",
       "      <td>1590</td>\n",
       "    </tr>\n",
       "  </tbody>\n",
       "</table>\n",
       "</div>"
      ],
      "text/plain": [
       "   Gender  Age Range  Size  Weight\n",
       "0       1          1  4512    1530\n",
       "1       1          1  3738    1297\n",
       "2       1          1  4261    1335\n",
       "3       1          1  3777    1282\n",
       "4       1          1  4177    1590"
      ]
     },
     "execution_count": 2,
     "metadata": {},
     "output_type": "execute_result"
    }
   ],
   "source": [
    "# Reading Data\n",
    "data = pd.read_csv('example1.csv')\n",
    "data.head()"
   ]
  },
  {
   "cell_type": "code",
   "execution_count": 3,
   "metadata": {},
   "outputs": [],
   "source": [
    "# Collecting X and Y\n",
    "X = data['Size'].values\n",
    "Y = data['Weight'].values"
   ]
  },
  {
   "cell_type": "code",
   "execution_count": 4,
   "metadata": {},
   "outputs": [
    {
     "data": {
      "image/png": "[encoded data removed]",
      "text/plain": [
       "<Figure size 1440x720 with 1 Axes>"
      ]
     },
     "metadata": {
      "needs_background": "light"
     },
     "output_type": "display_data"
    }
   ],
   "source": [
    "# Scatter plot of x/y\n",
    "plt.scatter(X, Y, c='r', label='Scatter Plot') # here, c is color (you may use either 'r', 'red' or '#FF0000')\n",
    "plt.show()"
   ]
  },
  {
   "cell_type": "markdown",
   "metadata": {},
   "source": [
    "Now, lets implement the model,\n",
    "\n",
    "$Y = \\beta_0 + \\beta_1X$\n",
    "\n",
    "where,\n",
    "\n",
    "\\\\[\\beta_1 = \\frac{\\sum_{i=1}^{m} (x_i - \\bar{x})(y_i - \\bar{y})}{\\sum_{i=1}^{m} (x_i - \\bar{x})^2}\\\\]\n",
    "\n",
    "\\\\[\\beta_0 = \\bar{y} - \\beta_1\\bar{x}\\\\]\n",
    "Note: $\\bar{x}$ and $\\bar{y}$ = mean of X and Y"
   ]
  },
  {
   "cell_type": "code",
   "execution_count": 5,
   "metadata": {},
   "outputs": [
    {
     "name": "stdout",
     "output_type": "stream",
     "text": [
      "0.26342933948939945 325.57342104944223\n"
     ]
    }
   ],
   "source": [
    "# Calculating coefficient\n",
    "\n",
    "# Mean X and Y\n",
    "mean_x = np.mean(X)\n",
    "mean_y = np.mean(Y)\n",
    "\n",
    "# Total number of values\n",
    "n = len(X)\n",
    "\n",
    "# Using the formula to calculate b1 and b0\n",
    "numer = 0\n",
    "denom = 0\n",
    "for i in range(n):\n",
    "    numer += (X[i] - mean_x) * (Y[i] - mean_y)\n",
    "    denom += (X[i] - mean_x) ** 2\n",
    "b1 = numer / denom\n",
    "b0 = mean_y - (b1 * mean_x)\n",
    "\n",
    "# Printing coefficients\n",
    "print(b1, b0)"
   ]
  },
  {
   "cell_type": "code",
   "execution_count": 6,
   "metadata": {},
   "outputs": [
    {
     "data": {
      "image/png": "[encoded data removed]",
      "text/plain": [
       "<Figure size 1440x720 with 1 Axes>"
      ]
     },
     "metadata": {
      "needs_background": "light"
     },
     "output_type": "display_data"
    }
   ],
   "source": [
    "# Plotting Values and Regression Line\n",
    "\n",
    "max_x = np.max(X) + 100\n",
    "min_x = np.min(X) - 100\n",
    "\n",
    "# Calculating line values x and y\n",
    "x = np.linspace(min_x, max_x, 1000)\n",
    "y = b0 + b1 * x\n",
    "\n",
    "# Ploting Line\n",
    "plt.plot(x, y, color='g', label='Regression Line')\n",
    "# Ploting Scatter Points\n",
    "plt.scatter(X, Y, c='red', label='Scatter Plot')\n",
    "\n",
    "plt.xlabel('Head Size in cm3')\n",
    "plt.ylabel('Brain Weight in grams')\n",
    "plt.legend()\n",
    "plt.show()"
   ]
  },
  {
   "cell_type": "markdown",
   "metadata": {},
   "source": [
    "There are many methods to evaluate models. \n",
    "- **Root Mean Squared Error** \n",
    "- **Coefficient of Determination(\\\\(R^2\\\\) Score)**.\n",
    "\n",
    "Root Mean Squared Error is the square root of sum of all errors divided by number of values, or Mathematically,\n",
    "\n",
    "\\\\[RMSE = \\sqrt{\\sum_{i=1}^{m} \\frac{1}{m} (y_i - \\hat{y_i})^2}\\\\]\n",
    "\n",
    "Here \\\\(\\hat{y_i}\\\\) is the i<sup>th</sup> predicted output values. "
   ]
  },
  {
   "cell_type": "code",
   "execution_count": 7,
   "metadata": {},
   "outputs": [
    {
     "name": "stdout",
     "output_type": "stream",
     "text": [
      "72.1206213783709\n"
     ]
    }
   ],
   "source": [
    "# Calculating Root Mean Squares Error\n",
    "rmse = 0\n",
    "for i in range(n):\n",
    "    y_pred = b0 + b1 * X[i]  # calculate y hat[i] the ith predicted output value\n",
    "    rmse += (Y[i] - y_pred) ** 2 \n",
    "rmse = np.sqrt(rmse/n)\n",
    "print(rmse)"
   ]
  },
  {
   "cell_type": "markdown",
   "metadata": {},
   "source": [
    " \\\\(R^2\\\\) is defined as follows,\n",
    "\n",
    "\\\\[SS_t = \\sum_{i=1}^{m} (y_i - \\bar{y})^2\\\\]\n",
    "\n",
    "\\\\[SS_r = \\sum_{i=1}^{m} (y_i - \\hat{y_i})^2\\\\]\n",
    "\n",
    "\\\\[R^2 \\equiv 1 - \\frac{SS_r}{SS_t}\\\\]\n",
    "\n",
    "\\\\(SS_t\\\\) is the total sum of squares and \\\\(SS_r\\\\) is the total sum of squares of residuals.\n",
    "\n",
    "\\\\(R^2\\\\) Score usually range from 0 to 1. It will also become negative if the model is completely wrong. Now we will find \\\\(R^2\\\\) Score."
   ]
  },
  {
   "cell_type": "code",
   "execution_count": 8,
   "metadata": {},
   "outputs": [
    {
     "name": "stdout",
     "output_type": "stream",
     "text": [
      "0.6393117199570003\n"
     ]
    }
   ],
   "source": [
    "# Calculating R2 Score# \n",
    "ss_tot = 0\n",
    "ss_res = 0\n",
    "for i in range(n):\n",
    "    y_pred = b0 + b1 * X[i]  # calculate y hat[i]\n",
    "    ss_tot += (Y[i] - mean_y) ** 2\n",
    "    ss_res += (Y[i] - y_pred) ** 2\n",
    "r2 = 1 - (ss_res/ss_tot)\n",
    "print(r2)"
   ]
  },
  {
   "cell_type": "markdown",
   "metadata": {},
   "source": [
    "### The scikit-learn Approach"
   ]
  },
  {
   "cell_type": "code",
   "execution_count": 9,
   "metadata": {},
   "outputs": [
    {
     "name": "stdout",
     "output_type": "stream",
     "text": [
      "(237,)\n",
      "(237, 1)\n",
      "72.1206213783709\n",
      "0.639311719957\n"
     ]
    }
   ],
   "source": [
    "# Validation using Scikit Learn\n",
    "from sklearn.linear_model import LinearRegression\n",
    "from sklearn.metrics import mean_squared_error\n",
    "\n",
    "print(X.shape)\n",
    "# Cannot use Rank 1 matrix in scikit learn\n",
    "X = X.reshape((n, 1))\n",
    "print(X.shape)\n",
    "\n",
    "# Creating Model\n",
    "reg = LinearRegression()\n",
    "\n",
    "# Fitting training data\n",
    "reg = reg.fit(X, Y)\n",
    "\n",
    "# Y Prediction\n",
    "Y_pred = reg.predict(X)\n",
    "\n",
    "# Calculating RMSE and R2 Score\n",
    "mse = mean_squared_error(Y, Y_pred)\n",
    "r2_score = reg.score(X, Y)\n",
    "\n",
    "print(np.sqrt(mse))\n",
    "print(r2_score)"
   ]
  },
  {
   "cell_type": "markdown",
   "metadata": {},
   "source": [
    "## Multiple Linear Regression\n",
    "\n",
    "Multiple Linear Regression is a type of Linear Regression when the input has multiple features(variables).\n",
    "\n",
    "### Model Representation\n",
    "\n",
    "Similar to Simple Linear Regression, we have input variable(**X**) and output variable(**Y**). But the input variable has \\\\(n\\\\) features. Therefore, we can represent this linear model as follows;\n",
    "\n",
    "\\\\[Y = \\beta_0 + \\beta_1x_1 + \\beta_2x_2 + ... + \\beta_nx_n\\\\]\n",
    "\n",
    "\\\\(x_i\\\\) is the i<sup>th</sup> feature in input variable. By introducing \\\\(x_0 = 1\\\\), we can rewrite this equation.\n",
    "\n",
    "\\\\[Y = \\beta_0x_0 + \\beta_1x_1 + \\beta_2x_2 + ... + \\beta_nx_n\\\\]\n",
    "\n",
    "\\\\[x_0 = 1\\\\]\n",
    "\n",
    "Now we can convert this eqaution to matrix form.\n",
    "\n",
    "\\\\[Y = \\beta^TX\\\\]\n",
    "\n",
    "Where,\n",
    "\n",
    "\\\\[\\beta = \\begin{bmatrix}\\beta_0\\\\\\beta_1\\\\\\beta_2\\\\.\\\\.\\\\\\beta_n\\end{bmatrix}\\\\]\n",
    "\n",
    "and\n",
    "\n",
    "\\\\[X = \\begin{bmatrix}x_0\\\\x_1\\\\x_2\\\\.\\\\.\\\\x_n\\end{bmatrix}\\\\]\n",
    "\n",
    "We have to define the cost of the model. Cost bascially gives the error in our model. **Y** in above equation is the our hypothesis(approximation). We are going to define it as our hypothesis function.\n",
    "\n",
    "\\\\[h_\\beta(x) = \\beta^Tx = \\beta_0 + \\beta_1x_1 + \\beta_2x_2 + ... + \\beta_nx_n\\\\] \n",
    "\n",
    "And the cost is,\n",
    "\n",
    "\\\\[J(\\beta) = \\frac{1}{2m} \\sum_{i=1}^{m} (h_\\beta(x^{\\textrm{(i)}}) - y^{\\textrm{(i)}})^2\\\\]\n",
    "\n",
    "We adjust $\\beta_j$ to minimze the cost function $J(\\beta)$. We use **Gradient Descent** for this.\n",
    "\n",
    "### Gradient Descent\n",
    "\n",
    "Gradient Descent is an optimization algorithm. We will optimize our cost function using Gradient Descent Algorithm.\n",
    "\n",
    "\n",
    "##### Step 1\n",
    "Initialize values \\\\(\\beta_0\\\\), \\\\(\\beta_1\\\\),..., \\\\(\\beta_n\\\\) with some value. In this case we will initialize with 0.\n",
    "\n",
    "#### Step 2\n",
    "\n",
    "Iteratively update,\n",
    "\n",
    "\\\\[\\beta_j := \\beta_j - \\alpha\\frac{\\partial}{\\partial \\beta_j} J(\\beta)\\\\]\n",
    "\n",
    "until it converges.\n",
    "\n",
    "This is the procedure. Here \\\\(\\alpha\\\\) is the learning rate. This operation \\\\(\\frac{\\partial}{\\partial \\beta_j} J(\\beta)\\\\) means we are finding partial derivate of cost with respect to each \\\\(\\beta_j\\\\). This is called Gradient.\n",
    "\n",
    "\n",
    "In step 2 we are changing the values of \\\\(\\beta_j\\\\) in a direction in which it reduces our cost function. And Gradient gives the direction in which we want to move. Finally we will reach the minima of our cost function. But we don't want to change values of \\\\(\\beta_j\\\\) drastically, because we might miss the minima. That's why we need learning rate.\n",
    "\n",
    "But we still didn't find the value of \\\\(\\frac{\\partial}{\\partial \\beta_j} J(\\beta)\\\\). After we applying the mathematics. The step 2 becomes.\n",
    "\n",
    "\\\\[\\beta_j \\leftarrow \\beta_j - \\alpha\\frac{1}{m}\\sum_{i=1}^m (h_\\beta(x^{(i)})-y^{(i)})x_{j}^{(i)}\\\\]\n",
    "\n",
    "We iteratively change values of \\\\(\\beta_j\\\\) according to above equation. This particular method is called **Batch Gradient Descent**."
   ]
  },
  {
   "cell_type": "code",
   "execution_count": 55,
   "metadata": {},
   "outputs": [
    {
     "name": "stdout",
     "output_type": "stream",
     "text": [
      "(1000, 3)\n"
     ]
    },
    {
     "data": {
      "text/html": [
       "<div>\n",
       "<style scoped>\n",
       "    .dataframe tbody tr th:only-of-type {\n",
       "        vertical-align: middle;\n",
       "    }\n",
       "\n",
       "    .dataframe tbody tr th {\n",
       "        vertical-align: top;\n",
       "    }\n",
       "\n",
       "    .dataframe thead th {\n",
       "        text-align: right;\n",
       "    }\n",
       "</style>\n",
       "<table border=\"1\" class=\"dataframe\">\n",
       "  <thead>\n",
       "    <tr style=\"text-align: right;\">\n",
       "      <th></th>\n",
       "      <th>Speaking</th>\n",
       "      <th>Reading</th>\n",
       "      <th>Writing</th>\n",
       "    </tr>\n",
       "  </thead>\n",
       "  <tbody>\n",
       "    <tr>\n",
       "      <th>0</th>\n",
       "      <td>48</td>\n",
       "      <td>68</td>\n",
       "      <td>63</td>\n",
       "    </tr>\n",
       "    <tr>\n",
       "      <th>1</th>\n",
       "      <td>62</td>\n",
       "      <td>81</td>\n",
       "      <td>72</td>\n",
       "    </tr>\n",
       "    <tr>\n",
       "      <th>2</th>\n",
       "      <td>79</td>\n",
       "      <td>80</td>\n",
       "      <td>78</td>\n",
       "    </tr>\n",
       "    <tr>\n",
       "      <th>3</th>\n",
       "      <td>76</td>\n",
       "      <td>83</td>\n",
       "      <td>79</td>\n",
       "    </tr>\n",
       "    <tr>\n",
       "      <th>4</th>\n",
       "      <td>59</td>\n",
       "      <td>64</td>\n",
       "      <td>62</td>\n",
       "    </tr>\n",
       "  </tbody>\n",
       "</table>\n",
       "</div>"
      ],
      "text/plain": [
       "   Speaking  Reading  Writing\n",
       "0        48       68       63\n",
       "1        62       81       72\n",
       "2        79       80       78\n",
       "3        76       83       79\n",
       "4        59       64       62"
      ]
     },
     "execution_count": 55,
     "metadata": {},
     "output_type": "execute_result"
    }
   ],
   "source": [
    "data = pd.read_csv('example2.csv')\n",
    "print(data.shape)\n",
    "data.head()"
   ]
  },
  {
   "cell_type": "markdown",
   "metadata": {},
   "source": [
    "## Predict the score of writing exam from speaking and reading scores\n",
    "\n",
    "Store scores to an array."
   ]
  },
  {
   "cell_type": "code",
   "execution_count": 56,
   "metadata": {},
   "outputs": [],
   "source": [
    "speak = data['Speaking'].values\n",
    "read = data['Reading'].values\n",
    "write = data['Writing'].values"
   ]
  },
  {
   "cell_type": "markdown",
   "metadata": {},
   "source": [
    "Generate our X, Y and \\\\(\\beta\\\\)."
   ]
  },
  {
   "cell_type": "code",
   "execution_count": 57,
   "metadata": {},
   "outputs": [],
   "source": [
    "m = len(speak)\n",
    "x0 = np.ones(m)\n",
    "X = np.array([x0, speak, read]).T\n",
    "# Initial Coefficients\n",
    "B = np.array([0, 0, 0])\n",
    "Y = np.array(write)\n",
    "alpha = 0.0001"
   ]
  },
  {
   "cell_type": "markdown",
   "metadata": {},
   "source": [
    "Define Cost Function $J(\\beta) = \\frac{1}{2m} \\sum_{i=1}^{m} (h_\\beta(x^{\\textrm{(i)}}) - y^{\\textrm{(i)}})^2$"
   ]
  },
  {
   "cell_type": "code",
   "execution_count": 58,
   "metadata": {},
   "outputs": [],
   "source": [
    "def cost_function(X, Y, B):\n",
    "    m = len(Y)\n",
    "    J = np.sum((X.dot(B) - Y) ** 2)/(2 * m) \n",
    "    return J"
   ]
  },
  {
   "cell_type": "code",
   "execution_count": 59,
   "metadata": {},
   "outputs": [
    {
     "name": "stdout",
     "output_type": "stream",
     "text": [
      "2470.11\n"
     ]
    }
   ],
   "source": [
    "inital_cost = cost_function(X, Y, B)\n",
    "print(inital_cost)"
   ]
  },
  {
   "cell_type": "markdown",
   "metadata": {},
   "source": [
    "As you can see initial cost is huge. \n",
    "\n",
    "**<font color=\"red\" size=5>Reduce it periodically using Gradient Descent. The steps are given below </font>**\n",
    "\n",
    "**Hypothesis:  \\\\(h_\\beta(x) = \\beta^Tx\\\\)**\n",
    "\n",
    "**Loss: \\\\((h_\\beta(x)-y)\\\\)**\n",
    "\n",
    "**Gradient: \\\\((h_\\beta(x)-y)x_{j}\\\\)/m**\n",
    "\n",
    "**Gradient Descent Updation: \\\\(\\beta_j := \\beta_j - \\alpha(h_\\beta(x)-y)x_{j})\\\\)**"
   ]
  },
  {
   "cell_type": "code",
   "execution_count": 60,
   "metadata": {},
   "outputs": [],
   "source": [
    "def gradient_descent(X, Y, B, alpha, iterations):\n",
    "    cost_history = [0] * iterations\n",
    "    m = len(Y)\n",
    "    \n",
    "    for iteration in range(iterations):\n",
    "        # Calculate Hypothesis Values\n",
    "        h = X.dot(B)\n",
    "        # Calculate Loss function\n",
    "        loss = h - Y\n",
    "        # Calculate Gradient \n",
    "        gradient = X.T.dot(loss) / m\n",
    "        # Changing Values of B using Gradient\n",
    "        B = B - alpha * gradient\n",
    "        # New Cost Value\n",
    "        cost = cost_function(X, Y, B)\n",
    "        cost_history[iteration] = cost\n",
    "        \n",
    "    return B, cost_history"
   ]
  },
  {
   "cell_type": "markdown",
   "metadata": {},
   "source": [
    "**<font color=\"red\" size=5>Compute and print the final value of \\\\(\\beta\\\\) </font>**\n",
    "\n",
    "$\\beta_j \\leftarrow \\beta_j - \\alpha\\frac{1}{m}\\sum_{i=1}^m (h_\\beta(x^{(i)})-y^{(i)})x_{j}^{(i)}$"
   ]
  },
  {
   "cell_type": "code",
   "execution_count": 61,
   "metadata": {},
   "outputs": [
    {
     "name": "stdout",
     "output_type": "stream",
     "text": [
      "[-0.47889172  0.09137252  0.90144884]\n",
      "10.475123473539167\n"
     ]
    }
   ],
   "source": [
    "iterations = 100000\n",
    "# call the gradient_descent function you created above (note: it returns two values)\n",
    "\n",
    "# New Values of B\n",
    "newB, cost_history = gradient_descent(X, Y, B, alpha, iterations)\n",
    "print(newB)\n",
    "\n",
    "# Final Cost of new B\n",
    "print(cost_history[-1])"
   ]
  },
  {
   "cell_type": "markdown",
   "metadata": {},
   "source": [
    "**<font color=\"red\" size=5>Calculate RMSE and \\\\(R^2\\\\) Score of your model to evaluate.  </font>**"
   ]
  },
  {
   "cell_type": "code",
   "execution_count": 64,
   "metadata": {},
   "outputs": [
    {
     "name": "stdout",
     "output_type": "stream",
     "text": [
      "4.5771439727277885\n",
      "0.9999857931018732\n"
     ]
    }
   ],
   "source": [
    "Y_pred = X.dot(newB)\n",
    "\n",
    "# Calculate rmse\n",
    "rmse = 0\n",
    "for i in range(n):\n",
    "    rmse += (Y[i] - Y_pred[i]) ** 2 \n",
    "rmse = np.sqrt(rmse/n)\n",
    "print(rmse)\n",
    "# Calculate r2_score\n",
    "ss_tot = 0\n",
    "ss_res = 0\n",
    "for i in range(n):\n",
    "    ss_tot += (Y[i] - mean_y) ** 2\n",
    "    ss_res += (Y[i] - Y_pred[i]) ** 2\n",
    "r2 = 1 - (ss_res/ss_tot)\n",
    "print(r2)\n",
    "\n",
    "# print rmse\n",
    "# print r2_score"
   ]
  },
  {
   "cell_type": "markdown",
   "metadata": {},
   "source": [
    "**<font color=\"red\" size=5>Now implement this model using scikit-learn. </font>**\n",
    "\n",
    "\n",
    "### The scikit-learn Approach\n",
    "\n",
    "scikit-learn approach is very similar to Simple Linear Regression Model."
   ]
  },
  {
   "cell_type": "code",
   "execution_count": 30,
   "metadata": {},
   "outputs": [
    {
     "name": "stdout",
     "output_type": "stream",
     "text": [
      "4.572887051836439\n",
      "0.9098901726717316\n"
     ]
    }
   ],
   "source": [
    "# Write code here\n",
    "from sklearn.linear_model import LinearRegression\n",
    "from sklearn.metrics import mean_squared_error\n",
    "\n",
    "# Creating Model\n",
    "reg = LinearRegression()\n",
    "\n",
    "# Fitting training data\n",
    "reg = reg.fit(X, Y)\n",
    "\n",
    "# Y Prediction\n",
    "Y_pred = reg.predict(X)\n",
    "\n",
    "# Calculating RMSE and R2 Score\n",
    "mse = mean_squared_error(Y, Y_pred)\n",
    "r2_score = reg.score(X, Y)\n",
    "\n",
    "print(np.sqrt(mse))\n",
    "print(r2_score)"
   ]
  },
  {
   "cell_type": "markdown",
   "metadata": {},
   "source": [
    "## Regularized Regression"
   ]
  },
  {
   "cell_type": "code",
   "execution_count": 31,
   "metadata": {},
   "outputs": [
    {
     "data": {
      "text/html": [
       "<div>\n",
       "<style scoped>\n",
       "    .dataframe tbody tr th:only-of-type {\n",
       "        vertical-align: middle;\n",
       "    }\n",
       "\n",
       "    .dataframe tbody tr th {\n",
       "        vertical-align: top;\n",
       "    }\n",
       "\n",
       "    .dataframe thead th {\n",
       "        text-align: right;\n",
       "    }\n",
       "</style>\n",
       "<table border=\"1\" class=\"dataframe\">\n",
       "  <thead>\n",
       "    <tr style=\"text-align: right;\">\n",
       "      <th></th>\n",
       "      <th>0</th>\n",
       "      <th>1</th>\n",
       "      <th>2</th>\n",
       "      <th>3</th>\n",
       "      <th>4</th>\n",
       "      <th>5</th>\n",
       "      <th>6</th>\n",
       "      <th>7</th>\n",
       "      <th>8</th>\n",
       "      <th>9</th>\n",
       "    </tr>\n",
       "  </thead>\n",
       "  <tbody>\n",
       "    <tr>\n",
       "      <th>0</th>\n",
       "      <td>0.038076</td>\n",
       "      <td>0.050680</td>\n",
       "      <td>0.061696</td>\n",
       "      <td>0.021872</td>\n",
       "      <td>-0.044223</td>\n",
       "      <td>-0.034821</td>\n",
       "      <td>-0.043401</td>\n",
       "      <td>-0.002592</td>\n",
       "      <td>0.019908</td>\n",
       "      <td>-0.017646</td>\n",
       "    </tr>\n",
       "    <tr>\n",
       "      <th>1</th>\n",
       "      <td>-0.001882</td>\n",
       "      <td>-0.044642</td>\n",
       "      <td>-0.051474</td>\n",
       "      <td>-0.026328</td>\n",
       "      <td>-0.008449</td>\n",
       "      <td>-0.019163</td>\n",
       "      <td>0.074412</td>\n",
       "      <td>-0.039493</td>\n",
       "      <td>-0.068330</td>\n",
       "      <td>-0.092204</td>\n",
       "    </tr>\n",
       "    <tr>\n",
       "      <th>2</th>\n",
       "      <td>0.085299</td>\n",
       "      <td>0.050680</td>\n",
       "      <td>0.044451</td>\n",
       "      <td>-0.005671</td>\n",
       "      <td>-0.045599</td>\n",
       "      <td>-0.034194</td>\n",
       "      <td>-0.032356</td>\n",
       "      <td>-0.002592</td>\n",
       "      <td>0.002864</td>\n",
       "      <td>-0.025930</td>\n",
       "    </tr>\n",
       "    <tr>\n",
       "      <th>3</th>\n",
       "      <td>-0.089063</td>\n",
       "      <td>-0.044642</td>\n",
       "      <td>-0.011595</td>\n",
       "      <td>-0.036656</td>\n",
       "      <td>0.012191</td>\n",
       "      <td>0.024991</td>\n",
       "      <td>-0.036038</td>\n",
       "      <td>0.034309</td>\n",
       "      <td>0.022692</td>\n",
       "      <td>-0.009362</td>\n",
       "    </tr>\n",
       "    <tr>\n",
       "      <th>4</th>\n",
       "      <td>0.005383</td>\n",
       "      <td>-0.044642</td>\n",
       "      <td>-0.036385</td>\n",
       "      <td>0.021872</td>\n",
       "      <td>0.003935</td>\n",
       "      <td>0.015596</td>\n",
       "      <td>0.008142</td>\n",
       "      <td>-0.002592</td>\n",
       "      <td>-0.031991</td>\n",
       "      <td>-0.046641</td>\n",
       "    </tr>\n",
       "  </tbody>\n",
       "</table>\n",
       "</div>"
      ],
      "text/plain": [
       "          0         1         2         3         4         5         6  \\\n",
       "0  0.038076  0.050680  0.061696  0.021872 -0.044223 -0.034821 -0.043401   \n",
       "1 -0.001882 -0.044642 -0.051474 -0.026328 -0.008449 -0.019163  0.074412   \n",
       "2  0.085299  0.050680  0.044451 -0.005671 -0.045599 -0.034194 -0.032356   \n",
       "3 -0.089063 -0.044642 -0.011595 -0.036656  0.012191  0.024991 -0.036038   \n",
       "4  0.005383 -0.044642 -0.036385  0.021872  0.003935  0.015596  0.008142   \n",
       "\n",
       "          7         8         9  \n",
       "0 -0.002592  0.019908 -0.017646  \n",
       "1 -0.039493 -0.068330 -0.092204  \n",
       "2 -0.002592  0.002864 -0.025930  \n",
       "3  0.034309  0.022692 -0.009362  \n",
       "4 -0.002592 -0.031991 -0.046641  "
      ]
     },
     "execution_count": 31,
     "metadata": {},
     "output_type": "execute_result"
    }
   ],
   "source": [
    "# import sklearn's diabetes dataset for regression (https://scikit-learn.org/stable/modules/generated/sklearn.datasets.load_diabetes.html)\n",
    "from sklearn.datasets import load_diabetes\n",
    "from sklearn.model_selection import train_test_split\n",
    "\n",
    "# load the dataset; returns data (X) and target (y)\n",
    "diabetes, target = load_diabetes(return_X_y=True)\n",
    "diabetes = pd.DataFrame(diabetes)\n",
    "\n",
    "diabetes.head()"
   ]
  },
  {
   "cell_type": "code",
   "execution_count": 32,
   "metadata": {},
   "outputs": [],
   "source": [
    "# Separate data and target to X and y\n",
    "X = diabetes\n",
    "y = target"
   ]
  },
  {
   "cell_type": "markdown",
   "metadata": {},
   "source": [
    "**<font color=\"red\" size=3>Split the data using train_test_split.</font>**"
   ]
  },
  {
   "cell_type": "code",
   "execution_count": 34,
   "metadata": {},
   "outputs": [],
   "source": [
    "# set up training and test data (test size = 0.25)\n",
    "from sklearn.model_selection import train_test_split\n",
    "X_train, X_test, y_train, y_test = train_test_split(X, y, test_size=0.25)"
   ]
  },
  {
   "cell_type": "code",
   "execution_count": 35,
   "metadata": {},
   "outputs": [
    {
     "data": {
      "text/plain": [
       "LinearRegression()"
      ]
     },
     "execution_count": 35,
     "metadata": {},
     "output_type": "execute_result"
    }
   ],
   "source": [
    "# Train the linear regression model\n",
    "lr = LinearRegression()\n",
    "lr.fit(X_train, y_train)"
   ]
  },
  {
   "cell_type": "code",
   "execution_count": 36,
   "metadata": {},
   "outputs": [
    {
     "name": "stdout",
     "output_type": "stream",
     "text": [
      "[0.43955377 0.40948572 0.50180517 0.61306326 0.44819549]\n",
      "Mean:  0.4824206809446704\n",
      "Standard deviation:  0.0717937150979761\n"
     ]
    }
   ],
   "source": [
    "from sklearn.model_selection import cross_val_score\n",
    "\n",
    "# get r2 cross validation scores (https://scikit-learn.org/stable/modules/generated/sklearn.model_selection.cross_val_score.html)\n",
    "scores = cross_val_score(lr, X_train, y_train, cv=5, scoring='r2')\n",
    "    \n",
    "print(scores)\n",
    "print('Mean: ', np.mean(scores)) \n",
    "print('Standard deviation: ', np.std(scores))  "
   ]
  },
  {
   "cell_type": "markdown",
   "metadata": {},
   "source": [
    "### Ridge Regression"
   ]
  },
  {
   "cell_type": "code",
   "execution_count": 37,
   "metadata": {},
   "outputs": [
    {
     "name": "stdout",
     "output_type": "stream",
     "text": [
      "[0.42624553 0.3538748  0.40849989 0.42230168 0.38335967]\n",
      "Mean:  0.39885631407784994\n",
      "Standard deviation:  0.027041952649473424\n"
     ]
    }
   ],
   "source": [
    "from sklearn.linear_model import Ridge\n",
    "\n",
    "# Train model with default alpha=1\n",
    "ridge = Ridge(alpha=1)\n",
    "ridge.fit(X_train, y_train)\n",
    "\n",
    "# get cross val scores\n",
    "scores = cross_val_score(ridge, X_train, y_train, cv=5, scoring='r2')\n",
    "\n",
    "print(scores)\n",
    "print('Mean: ', np.mean(scores)) \n",
    "print('Standard deviation: ', np.std(scores))  "
   ]
  },
  {
   "cell_type": "markdown",
   "metadata": {},
   "source": [
    "### Let's see if we can improve the \\\\(R^2\\\\) score by adjusting the value of alpha using [grid search](https://towardsdatascience.com/hyperparameter-tuning-c5619e7e6624)"
   ]
  },
  {
   "cell_type": "code",
   "execution_count": 42,
   "metadata": {
    "scrolled": true
   },
   "outputs": [],
   "source": [
    "# find optimal alpha with grid search\n",
    "from sklearn.model_selection import GridSearchCV\n",
    "\n",
    "# some possible values for alpha \n",
    "#alpha = [1e-12, 1e-10, 1e-8, 1e-4, 1e-3, 1e-2, 0.1, 1, 5, 10, 20, 50, 100, 500, 1000]"
   ]
  },
  {
   "cell_type": "markdown",
   "metadata": {},
   "source": [
    "**<font color=\"red\" size=3>Play with the parameters for GridSearchCV for different values of alpha.</font>**"
   ]
  },
  {
   "cell_type": "code",
   "execution_count": 50,
   "metadata": {},
   "outputs": [
    {
     "data": {
      "text/html": [
       "<div>\n",
       "<style scoped>\n",
       "    .dataframe tbody tr th:only-of-type {\n",
       "        vertical-align: middle;\n",
       "    }\n",
       "\n",
       "    .dataframe tbody tr th {\n",
       "        vertical-align: top;\n",
       "    }\n",
       "\n",
       "    .dataframe thead th {\n",
       "        text-align: right;\n",
       "    }\n",
       "</style>\n",
       "<table border=\"1\" class=\"dataframe\">\n",
       "  <thead>\n",
       "    <tr style=\"text-align: right;\">\n",
       "      <th></th>\n",
       "      <th>mean_fit_time</th>\n",
       "      <th>std_fit_time</th>\n",
       "      <th>mean_score_time</th>\n",
       "      <th>std_score_time</th>\n",
       "      <th>param_alpha</th>\n",
       "      <th>params</th>\n",
       "      <th>split0_test_score</th>\n",
       "      <th>split1_test_score</th>\n",
       "      <th>split2_test_score</th>\n",
       "      <th>split3_test_score</th>\n",
       "      <th>split4_test_score</th>\n",
       "      <th>mean_test_score</th>\n",
       "      <th>std_test_score</th>\n",
       "      <th>rank_test_score</th>\n",
       "    </tr>\n",
       "  </thead>\n",
       "  <tbody>\n",
       "    <tr>\n",
       "      <th>0</th>\n",
       "      <td>0.002334</td>\n",
       "      <td>0.000368</td>\n",
       "      <td>0.001379</td>\n",
       "      <td>0.000340</td>\n",
       "      <td>0.0</td>\n",
       "      <td>{'alpha': 1e-12}</td>\n",
       "      <td>0.439554</td>\n",
       "      <td>0.409486</td>\n",
       "      <td>0.501805</td>\n",
       "      <td>0.613063</td>\n",
       "      <td>0.448195</td>\n",
       "      <td>0.482421</td>\n",
       "      <td>0.071794</td>\n",
       "      <td>1</td>\n",
       "    </tr>\n",
       "    <tr>\n",
       "      <th>1</th>\n",
       "      <td>0.001906</td>\n",
       "      <td>0.000241</td>\n",
       "      <td>0.001125</td>\n",
       "      <td>0.000084</td>\n",
       "      <td>0.0</td>\n",
       "      <td>{'alpha': 1e-10}</td>\n",
       "      <td>0.439554</td>\n",
       "      <td>0.409486</td>\n",
       "      <td>0.501805</td>\n",
       "      <td>0.613063</td>\n",
       "      <td>0.448195</td>\n",
       "      <td>0.482421</td>\n",
       "      <td>0.071794</td>\n",
       "      <td>2</td>\n",
       "    </tr>\n",
       "    <tr>\n",
       "      <th>2</th>\n",
       "      <td>0.002114</td>\n",
       "      <td>0.000387</td>\n",
       "      <td>0.001496</td>\n",
       "      <td>0.000837</td>\n",
       "      <td>0.0</td>\n",
       "      <td>{'alpha': 1e-08}</td>\n",
       "      <td>0.439554</td>\n",
       "      <td>0.409486</td>\n",
       "      <td>0.501805</td>\n",
       "      <td>0.613063</td>\n",
       "      <td>0.448195</td>\n",
       "      <td>0.482421</td>\n",
       "      <td>0.071794</td>\n",
       "      <td>3</td>\n",
       "    </tr>\n",
       "    <tr>\n",
       "      <th>3</th>\n",
       "      <td>0.001738</td>\n",
       "      <td>0.000550</td>\n",
       "      <td>0.000973</td>\n",
       "      <td>0.000074</td>\n",
       "      <td>0.0001</td>\n",
       "      <td>{'alpha': 0.0001}</td>\n",
       "      <td>0.440244</td>\n",
       "      <td>0.409359</td>\n",
       "      <td>0.501893</td>\n",
       "      <td>0.612853</td>\n",
       "      <td>0.447734</td>\n",
       "      <td>0.482416</td>\n",
       "      <td>0.071710</td>\n",
       "      <td>4</td>\n",
       "    </tr>\n",
       "    <tr>\n",
       "      <th>4</th>\n",
       "      <td>0.001625</td>\n",
       "      <td>0.000610</td>\n",
       "      <td>0.000977</td>\n",
       "      <td>0.000156</td>\n",
       "      <td>0.001</td>\n",
       "      <td>{'alpha': 0.001}</td>\n",
       "      <td>0.444957</td>\n",
       "      <td>0.408020</td>\n",
       "      <td>0.502438</td>\n",
       "      <td>0.611092</td>\n",
       "      <td>0.444171</td>\n",
       "      <td>0.482136</td>\n",
       "      <td>0.071216</td>\n",
       "      <td>5</td>\n",
       "    </tr>\n",
       "    <tr>\n",
       "      <th>5</th>\n",
       "      <td>0.001506</td>\n",
       "      <td>0.000131</td>\n",
       "      <td>0.001065</td>\n",
       "      <td>0.000090</td>\n",
       "      <td>0.01</td>\n",
       "      <td>{'alpha': 0.01}</td>\n",
       "      <td>0.456289</td>\n",
       "      <td>0.399859</td>\n",
       "      <td>0.502204</td>\n",
       "      <td>0.601217</td>\n",
       "      <td>0.432042</td>\n",
       "      <td>0.478322</td>\n",
       "      <td>0.069939</td>\n",
       "      <td>6</td>\n",
       "    </tr>\n",
       "    <tr>\n",
       "      <th>6</th>\n",
       "      <td>0.002093</td>\n",
       "      <td>0.000810</td>\n",
       "      <td>0.002119</td>\n",
       "      <td>0.001195</td>\n",
       "      <td>0.1</td>\n",
       "      <td>{'alpha': 0.1}</td>\n",
       "      <td>0.474091</td>\n",
       "      <td>0.404146</td>\n",
       "      <td>0.494213</td>\n",
       "      <td>0.571377</td>\n",
       "      <td>0.435441</td>\n",
       "      <td>0.475854</td>\n",
       "      <td>0.056991</td>\n",
       "      <td>7</td>\n",
       "    </tr>\n",
       "    <tr>\n",
       "      <th>7</th>\n",
       "      <td>0.002415</td>\n",
       "      <td>0.000891</td>\n",
       "      <td>0.001603</td>\n",
       "      <td>0.000478</td>\n",
       "      <td>1</td>\n",
       "      <td>{'alpha': 1}</td>\n",
       "      <td>0.426246</td>\n",
       "      <td>0.353875</td>\n",
       "      <td>0.408500</td>\n",
       "      <td>0.422302</td>\n",
       "      <td>0.383360</td>\n",
       "      <td>0.398856</td>\n",
       "      <td>0.027042</td>\n",
       "      <td>8</td>\n",
       "    </tr>\n",
       "    <tr>\n",
       "      <th>8</th>\n",
       "      <td>0.002415</td>\n",
       "      <td>0.000745</td>\n",
       "      <td>0.001715</td>\n",
       "      <td>0.000683</td>\n",
       "      <td>5</td>\n",
       "      <td>{'alpha': 5}</td>\n",
       "      <td>0.230341</td>\n",
       "      <td>0.190093</td>\n",
       "      <td>0.221179</td>\n",
       "      <td>0.211089</td>\n",
       "      <td>0.216157</td>\n",
       "      <td>0.213772</td>\n",
       "      <td>0.013438</td>\n",
       "      <td>9</td>\n",
       "    </tr>\n",
       "    <tr>\n",
       "      <th>9</th>\n",
       "      <td>0.002410</td>\n",
       "      <td>0.000858</td>\n",
       "      <td>0.001179</td>\n",
       "      <td>0.000236</td>\n",
       "      <td>10</td>\n",
       "      <td>{'alpha': 10}</td>\n",
       "      <td>0.144520</td>\n",
       "      <td>0.114805</td>\n",
       "      <td>0.139515</td>\n",
       "      <td>0.129418</td>\n",
       "      <td>0.137736</td>\n",
       "      <td>0.133199</td>\n",
       "      <td>0.010405</td>\n",
       "      <td>10</td>\n",
       "    </tr>\n",
       "    <tr>\n",
       "      <th>10</th>\n",
       "      <td>0.002491</td>\n",
       "      <td>0.001319</td>\n",
       "      <td>0.001126</td>\n",
       "      <td>0.000175</td>\n",
       "      <td>20</td>\n",
       "      <td>{'alpha': 20}</td>\n",
       "      <td>0.082480</td>\n",
       "      <td>0.058745</td>\n",
       "      <td>0.079863</td>\n",
       "      <td>0.071225</td>\n",
       "      <td>0.078750</td>\n",
       "      <td>0.074213</td>\n",
       "      <td>0.008591</td>\n",
       "      <td>11</td>\n",
       "    </tr>\n",
       "    <tr>\n",
       "      <th>11</th>\n",
       "      <td>0.002851</td>\n",
       "      <td>0.001379</td>\n",
       "      <td>0.001490</td>\n",
       "      <td>0.000630</td>\n",
       "      <td>50</td>\n",
       "      <td>{'alpha': 50}</td>\n",
       "      <td>0.035761</td>\n",
       "      <td>0.015732</td>\n",
       "      <td>0.034598</td>\n",
       "      <td>0.027606</td>\n",
       "      <td>0.033121</td>\n",
       "      <td>0.029364</td>\n",
       "      <td>0.007367</td>\n",
       "      <td>12</td>\n",
       "    </tr>\n",
       "    <tr>\n",
       "      <th>12</th>\n",
       "      <td>0.001149</td>\n",
       "      <td>0.000151</td>\n",
       "      <td>0.000678</td>\n",
       "      <td>0.000037</td>\n",
       "      <td>100</td>\n",
       "      <td>{'alpha': 100}</td>\n",
       "      <td>0.018162</td>\n",
       "      <td>-0.000632</td>\n",
       "      <td>0.017473</td>\n",
       "      <td>0.011197</td>\n",
       "      <td>0.015674</td>\n",
       "      <td>0.012375</td>\n",
       "      <td>0.006942</td>\n",
       "      <td>13</td>\n",
       "    </tr>\n",
       "    <tr>\n",
       "      <th>13</th>\n",
       "      <td>0.001020</td>\n",
       "      <td>0.000119</td>\n",
       "      <td>0.000639</td>\n",
       "      <td>0.000023</td>\n",
       "      <td>500</td>\n",
       "      <td>{'alpha': 500}</td>\n",
       "      <td>0.003243</td>\n",
       "      <td>-0.014569</td>\n",
       "      <td>0.002924</td>\n",
       "      <td>-0.002709</td>\n",
       "      <td>0.000775</td>\n",
       "      <td>-0.002067</td>\n",
       "      <td>0.006602</td>\n",
       "      <td>14</td>\n",
       "    </tr>\n",
       "    <tr>\n",
       "      <th>14</th>\n",
       "      <td>0.001111</td>\n",
       "      <td>0.000148</td>\n",
       "      <td>0.000699</td>\n",
       "      <td>0.000068</td>\n",
       "      <td>1000</td>\n",
       "      <td>{'alpha': 1000}</td>\n",
       "      <td>0.001323</td>\n",
       "      <td>-0.016367</td>\n",
       "      <td>0.001049</td>\n",
       "      <td>-0.004499</td>\n",
       "      <td>-0.001150</td>\n",
       "      <td>-0.003929</td>\n",
       "      <td>0.006559</td>\n",
       "      <td>15</td>\n",
       "    </tr>\n",
       "  </tbody>\n",
       "</table>\n",
       "</div>"
      ],
      "text/plain": [
       "    mean_fit_time  std_fit_time  mean_score_time  std_score_time param_alpha  \\\n",
       "0        0.002334      0.000368         0.001379        0.000340         0.0   \n",
       "1        0.001906      0.000241         0.001125        0.000084         0.0   \n",
       "2        0.002114      0.000387         0.001496        0.000837         0.0   \n",
       "3        0.001738      0.000550         0.000973        0.000074      0.0001   \n",
       "4        0.001625      0.000610         0.000977        0.000156       0.001   \n",
       "5        0.001506      0.000131         0.001065        0.000090        0.01   \n",
       "6        0.002093      0.000810         0.002119        0.001195         0.1   \n",
       "7        0.002415      0.000891         0.001603        0.000478           1   \n",
       "8        0.002415      0.000745         0.001715        0.000683           5   \n",
       "9        0.002410      0.000858         0.001179        0.000236          10   \n",
       "10       0.002491      0.001319         0.001126        0.000175          20   \n",
       "11       0.002851      0.001379         0.001490        0.000630          50   \n",
       "12       0.001149      0.000151         0.000678        0.000037         100   \n",
       "13       0.001020      0.000119         0.000639        0.000023         500   \n",
       "14       0.001111      0.000148         0.000699        0.000068        1000   \n",
       "\n",
       "               params  split0_test_score  split1_test_score  \\\n",
       "0    {'alpha': 1e-12}           0.439554           0.409486   \n",
       "1    {'alpha': 1e-10}           0.439554           0.409486   \n",
       "2    {'alpha': 1e-08}           0.439554           0.409486   \n",
       "3   {'alpha': 0.0001}           0.440244           0.409359   \n",
       "4    {'alpha': 0.001}           0.444957           0.408020   \n",
       "5     {'alpha': 0.01}           0.456289           0.399859   \n",
       "6      {'alpha': 0.1}           0.474091           0.404146   \n",
       "7        {'alpha': 1}           0.426246           0.353875   \n",
       "8        {'alpha': 5}           0.230341           0.190093   \n",
       "9       {'alpha': 10}           0.144520           0.114805   \n",
       "10      {'alpha': 20}           0.082480           0.058745   \n",
       "11      {'alpha': 50}           0.035761           0.015732   \n",
       "12     {'alpha': 100}           0.018162          -0.000632   \n",
       "13     {'alpha': 500}           0.003243          -0.014569   \n",
       "14    {'alpha': 1000}           0.001323          -0.016367   \n",
       "\n",
       "    split2_test_score  split3_test_score  split4_test_score  mean_test_score  \\\n",
       "0            0.501805           0.613063           0.448195         0.482421   \n",
       "1            0.501805           0.613063           0.448195         0.482421   \n",
       "2            0.501805           0.613063           0.448195         0.482421   \n",
       "3            0.501893           0.612853           0.447734         0.482416   \n",
       "4            0.502438           0.611092           0.444171         0.482136   \n",
       "5            0.502204           0.601217           0.432042         0.478322   \n",
       "6            0.494213           0.571377           0.435441         0.475854   \n",
       "7            0.408500           0.422302           0.383360         0.398856   \n",
       "8            0.221179           0.211089           0.216157         0.213772   \n",
       "9            0.139515           0.129418           0.137736         0.133199   \n",
       "10           0.079863           0.071225           0.078750         0.074213   \n",
       "11           0.034598           0.027606           0.033121         0.029364   \n",
       "12           0.017473           0.011197           0.015674         0.012375   \n",
       "13           0.002924          -0.002709           0.000775        -0.002067   \n",
       "14           0.001049          -0.004499          -0.001150        -0.003929   \n",
       "\n",
       "    std_test_score  rank_test_score  \n",
       "0         0.071794                1  \n",
       "1         0.071794                2  \n",
       "2         0.071794                3  \n",
       "3         0.071710                4  \n",
       "4         0.071216                5  \n",
       "5         0.069939                6  \n",
       "6         0.056991                7  \n",
       "7         0.027042                8  \n",
       "8         0.013438                9  \n",
       "9         0.010405               10  \n",
       "10        0.008591               11  \n",
       "11        0.007367               12  \n",
       "12        0.006942               13  \n",
       "13        0.006602               14  \n",
       "14        0.006559               15  "
      ]
     },
     "execution_count": 50,
     "metadata": {},
     "output_type": "execute_result"
    }
   ],
   "source": [
    "grid = GridSearchCV(estimator=ridge, param_grid={'alpha':[1e-12, 1e-10, 1e-8, 1e-4, 1e-3, 1e-2, 0.1, 1, 5, 10, 20, 50, 100, 500, 1000]}, scoring='r2', n_jobs=-1)\n",
    "grid_result = grid.fit(X_train, y_train)\n",
    "\n",
    "# Now import the results into a dataframe \n",
    "df = pd.DataFrame(grid.cv_results_)\n",
    "df"
   ]
  },
  {
   "cell_type": "markdown",
   "metadata": {},
   "source": [
    "### We do not need so many columns. We are only interested to know how the mean test score varies with different values of alpha. Lets look at those two columns. "
   ]
  },
  {
   "cell_type": "code",
   "execution_count": 47,
   "metadata": {},
   "outputs": [
    {
     "data": {
      "text/html": [
       "<div>\n",
       "<style scoped>\n",
       "    .dataframe tbody tr th:only-of-type {\n",
       "        vertical-align: middle;\n",
       "    }\n",
       "\n",
       "    .dataframe tbody tr th {\n",
       "        vertical-align: top;\n",
       "    }\n",
       "\n",
       "    .dataframe thead th {\n",
       "        text-align: right;\n",
       "    }\n",
       "</style>\n",
       "<table border=\"1\" class=\"dataframe\">\n",
       "  <thead>\n",
       "    <tr style=\"text-align: right;\">\n",
       "      <th></th>\n",
       "      <th>param_alpha</th>\n",
       "      <th>mean_test_score</th>\n",
       "    </tr>\n",
       "  </thead>\n",
       "  <tbody>\n",
       "    <tr>\n",
       "      <th>0</th>\n",
       "      <td>0.0</td>\n",
       "      <td>0.482421</td>\n",
       "    </tr>\n",
       "    <tr>\n",
       "      <th>1</th>\n",
       "      <td>0.0</td>\n",
       "      <td>0.482421</td>\n",
       "    </tr>\n",
       "    <tr>\n",
       "      <th>2</th>\n",
       "      <td>0.0</td>\n",
       "      <td>0.482421</td>\n",
       "    </tr>\n",
       "    <tr>\n",
       "      <th>3</th>\n",
       "      <td>0.0001</td>\n",
       "      <td>0.482416</td>\n",
       "    </tr>\n",
       "    <tr>\n",
       "      <th>4</th>\n",
       "      <td>0.001</td>\n",
       "      <td>0.482136</td>\n",
       "    </tr>\n",
       "    <tr>\n",
       "      <th>5</th>\n",
       "      <td>0.01</td>\n",
       "      <td>0.478322</td>\n",
       "    </tr>\n",
       "    <tr>\n",
       "      <th>6</th>\n",
       "      <td>0.1</td>\n",
       "      <td>0.475854</td>\n",
       "    </tr>\n",
       "    <tr>\n",
       "      <th>7</th>\n",
       "      <td>1</td>\n",
       "      <td>0.398856</td>\n",
       "    </tr>\n",
       "    <tr>\n",
       "      <th>8</th>\n",
       "      <td>5</td>\n",
       "      <td>0.213772</td>\n",
       "    </tr>\n",
       "    <tr>\n",
       "      <th>9</th>\n",
       "      <td>10</td>\n",
       "      <td>0.133199</td>\n",
       "    </tr>\n",
       "    <tr>\n",
       "      <th>10</th>\n",
       "      <td>20</td>\n",
       "      <td>0.074213</td>\n",
       "    </tr>\n",
       "    <tr>\n",
       "      <th>11</th>\n",
       "      <td>50</td>\n",
       "      <td>0.029364</td>\n",
       "    </tr>\n",
       "    <tr>\n",
       "      <th>12</th>\n",
       "      <td>100</td>\n",
       "      <td>0.012375</td>\n",
       "    </tr>\n",
       "    <tr>\n",
       "      <th>13</th>\n",
       "      <td>500</td>\n",
       "      <td>-0.002067</td>\n",
       "    </tr>\n",
       "    <tr>\n",
       "      <th>14</th>\n",
       "      <td>1000</td>\n",
       "      <td>-0.003929</td>\n",
       "    </tr>\n",
       "  </tbody>\n",
       "</table>\n",
       "</div>"
      ],
      "text/plain": [
       "   param_alpha  mean_test_score\n",
       "0          0.0         0.482421\n",
       "1          0.0         0.482421\n",
       "2          0.0         0.482421\n",
       "3       0.0001         0.482416\n",
       "4        0.001         0.482136\n",
       "5         0.01         0.478322\n",
       "6          0.1         0.475854\n",
       "7            1         0.398856\n",
       "8            5         0.213772\n",
       "9           10         0.133199\n",
       "10          20         0.074213\n",
       "11          50         0.029364\n",
       "12         100         0.012375\n",
       "13         500        -0.002067\n",
       "14        1000        -0.003929"
      ]
     },
     "execution_count": 47,
     "metadata": {},
     "output_type": "execute_result"
    }
   ],
   "source": [
    "df[['param_alpha', 'mean_test_score']]"
   ]
  },
  {
   "cell_type": "markdown",
   "metadata": {},
   "source": [
    "### Find the best score and the best parameter (alpha value) for that score."
   ]
  },
  {
   "cell_type": "code",
   "execution_count": 48,
   "metadata": {},
   "outputs": [
    {
     "name": "stdout",
     "output_type": "stream",
     "text": [
      "Best Score:  0.4824206809446655\n",
      "Best Params:  {'alpha': 1e-12}\n"
     ]
    }
   ],
   "source": [
    "print('Best Score: ', grid_result.best_score_)\n",
    "print('Best Params: ', grid_result.best_params_)"
   ]
  }
 ],
 "metadata": {
  "kernelspec": {
   "display_name": "Python 3 (ipykernel)",
   "language": "python",
   "name": "python3"
  },
  "language_info": {
   "codemirror_mode": {
    "name": "ipython",
    "version": 3
   },
   "file_extension": ".py",
   "mimetype": "text/x-python",
   "name": "python",
   "nbconvert_exporter": "python",
   "pygments_lexer": "ipython3",
   "version": "3.9.7"
  }
 },
 "nbformat": 4,
 "nbformat_minor": 4
}
