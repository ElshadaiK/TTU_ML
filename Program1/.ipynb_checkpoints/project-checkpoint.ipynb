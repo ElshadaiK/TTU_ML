{
 "cells": [
  {
   "cell_type": "code",
   "execution_count": 1,
   "id": "c1fae601",
   "metadata": {},
   "outputs": [],
   "source": [
    "import numpy as np\n",
    "import pandas as pd\n",
    "import matplotlib.pyplot as plt\n",
    "\n",
    "from sklearn import datasets  # library to download and use data from"
   ]
  },
  {
   "cell_type": "code",
   "execution_count": 2,
   "id": "02895e27",
   "metadata": {},
   "outputs": [
    {
     "data": {
      "text/html": [
       "<div>\n",
       "<style scoped>\n",
       "    .dataframe tbody tr th:only-of-type {\n",
       "        vertical-align: middle;\n",
       "    }\n",
       "\n",
       "    .dataframe tbody tr th {\n",
       "        vertical-align: top;\n",
       "    }\n",
       "\n",
       "    .dataframe thead th {\n",
       "        text-align: right;\n",
       "    }\n",
       "</style>\n",
       "<table border=\"1\" class=\"dataframe\">\n",
       "  <thead>\n",
       "    <tr style=\"text-align: right;\">\n",
       "      <th></th>\n",
       "      <th>CLID</th>\n",
       "      <th>Class</th>\n",
       "      <th>Hs.2256</th>\n",
       "      <th>Hs.346950</th>\n",
       "      <th>Hs.256697</th>\n",
       "      <th>Hs.434053</th>\n",
       "      <th>Hs.194726</th>\n",
       "      <th>Hs.74624</th>\n",
       "      <th>Hs.1578</th>\n",
       "      <th>Hs.30743</th>\n",
       "      <th>...</th>\n",
       "      <th>Hs.118962</th>\n",
       "      <th>Hs.250822</th>\n",
       "      <th>Hs.82563</th>\n",
       "      <th>Hs.418533</th>\n",
       "      <th>Hs.433416</th>\n",
       "      <th>Hs.436348</th>\n",
       "      <th>Hs.388664</th>\n",
       "      <th>Hs.302690</th>\n",
       "      <th>Hs.293885</th>\n",
       "      <th>Hs.82109</th>\n",
       "    </tr>\n",
       "  </thead>\n",
       "  <tbody>\n",
       "    <tr>\n",
       "      <th>0</th>\n",
       "      <td>Sample 115</td>\n",
       "      <td>0</td>\n",
       "      <td>-0.227</td>\n",
       "      <td>0.093</td>\n",
       "      <td>0.330</td>\n",
       "      <td>-0.672</td>\n",
       "      <td>0.197</td>\n",
       "      <td>3.433</td>\n",
       "      <td>2.044</td>\n",
       "      <td>-1.421</td>\n",
       "      <td>...</td>\n",
       "      <td>-0.813</td>\n",
       "      <td>3.024</td>\n",
       "      <td>0.272</td>\n",
       "      <td>-0.751</td>\n",
       "      <td>-1.259</td>\n",
       "      <td>0.240</td>\n",
       "      <td>-1.170</td>\n",
       "      <td>-0.070</td>\n",
       "      <td>-0.164</td>\n",
       "      <td>-0.680</td>\n",
       "    </tr>\n",
       "    <tr>\n",
       "      <th>1</th>\n",
       "      <td>Exp21630</td>\n",
       "      <td>0</td>\n",
       "      <td>-1.482</td>\n",
       "      <td>0.326</td>\n",
       "      <td>0.112</td>\n",
       "      <td>-0.649</td>\n",
       "      <td>-0.727</td>\n",
       "      <td>0.033</td>\n",
       "      <td>1.103</td>\n",
       "      <td>1.782</td>\n",
       "      <td>...</td>\n",
       "      <td>-1.215</td>\n",
       "      <td>0.379</td>\n",
       "      <td>0.376</td>\n",
       "      <td>-0.845</td>\n",
       "      <td>-0.611</td>\n",
       "      <td>-0.270</td>\n",
       "      <td>-1.038</td>\n",
       "      <td>-0.830</td>\n",
       "      <td>0.065</td>\n",
       "      <td>-0.711</td>\n",
       "    </tr>\n",
       "    <tr>\n",
       "      <th>2</th>\n",
       "      <td>Exp21626</td>\n",
       "      <td>0</td>\n",
       "      <td>-1.796</td>\n",
       "      <td>-0.346</td>\n",
       "      <td>3.006</td>\n",
       "      <td>-0.195</td>\n",
       "      <td>0.213</td>\n",
       "      <td>-0.628</td>\n",
       "      <td>0.488</td>\n",
       "      <td>1.429</td>\n",
       "      <td>...</td>\n",
       "      <td>-0.069</td>\n",
       "      <td>2.760</td>\n",
       "      <td>1.447</td>\n",
       "      <td>-0.712</td>\n",
       "      <td>0.564</td>\n",
       "      <td>0.730</td>\n",
       "      <td>-0.394</td>\n",
       "      <td>-1.313</td>\n",
       "      <td>-1.117</td>\n",
       "      <td>0.428</td>\n",
       "    </tr>\n",
       "    <tr>\n",
       "      <th>3</th>\n",
       "      <td>Exp21611</td>\n",
       "      <td>0</td>\n",
       "      <td>-3.011</td>\n",
       "      <td>-0.373</td>\n",
       "      <td>-0.161</td>\n",
       "      <td>1.019</td>\n",
       "      <td>6.353</td>\n",
       "      <td>0.147</td>\n",
       "      <td>0.330</td>\n",
       "      <td>-0.838</td>\n",
       "      <td>...</td>\n",
       "      <td>-0.071</td>\n",
       "      <td>-0.056</td>\n",
       "      <td>-0.855</td>\n",
       "      <td>-0.356</td>\n",
       "      <td>-0.313</td>\n",
       "      <td>0.306</td>\n",
       "      <td>0.178</td>\n",
       "      <td>0.083</td>\n",
       "      <td>-0.409</td>\n",
       "      <td>-0.167</td>\n",
       "    </tr>\n",
       "    <tr>\n",
       "      <th>4</th>\n",
       "      <td>Sample 39 &gt;5 yr survival(132 months) age 46  e...</td>\n",
       "      <td>0</td>\n",
       "      <td>-0.437</td>\n",
       "      <td>3.585</td>\n",
       "      <td>-1.209</td>\n",
       "      <td>0.448</td>\n",
       "      <td>2.649</td>\n",
       "      <td>3.110</td>\n",
       "      <td>-0.695</td>\n",
       "      <td>-0.987</td>\n",
       "      <td>...</td>\n",
       "      <td>-0.682</td>\n",
       "      <td>0.129</td>\n",
       "      <td>0.683</td>\n",
       "      <td>-0.311</td>\n",
       "      <td>0.383</td>\n",
       "      <td>0.963</td>\n",
       "      <td>-0.848</td>\n",
       "      <td>-1.383</td>\n",
       "      <td>0.193</td>\n",
       "      <td>0.592</td>\n",
       "    </tr>\n",
       "  </tbody>\n",
       "</table>\n",
       "<p>5 rows × 308 columns</p>\n",
       "</div>"
      ],
      "text/plain": [
       "                                                CLID  Class  Hs.2256  \\\n",
       "0                                         Sample 115      0   -0.227   \n",
       "1                                           Exp21630      0   -1.482   \n",
       "2                                           Exp21626      0   -1.796   \n",
       "3                                           Exp21611      0   -3.011   \n",
       "4  Sample 39 >5 yr survival(132 months) age 46  e...      0   -0.437   \n",
       "\n",
       "   Hs.346950  Hs.256697  Hs.434053  Hs.194726  Hs.74624  Hs.1578  Hs.30743  \\\n",
       "0      0.093      0.330     -0.672      0.197     3.433    2.044    -1.421   \n",
       "1      0.326      0.112     -0.649     -0.727     0.033    1.103     1.782   \n",
       "2     -0.346      3.006     -0.195      0.213    -0.628    0.488     1.429   \n",
       "3     -0.373     -0.161      1.019      6.353     0.147    0.330    -0.838   \n",
       "4      3.585     -1.209      0.448      2.649     3.110   -0.695    -0.987   \n",
       "\n",
       "   ...  Hs.118962  Hs.250822  Hs.82563  Hs.418533  Hs.433416  Hs.436348  \\\n",
       "0  ...     -0.813      3.024     0.272     -0.751     -1.259      0.240   \n",
       "1  ...     -1.215      0.379     0.376     -0.845     -0.611     -0.270   \n",
       "2  ...     -0.069      2.760     1.447     -0.712      0.564      0.730   \n",
       "3  ...     -0.071     -0.056    -0.855     -0.356     -0.313      0.306   \n",
       "4  ...     -0.682      0.129     0.683     -0.311      0.383      0.963   \n",
       "\n",
       "   Hs.388664  Hs.302690  Hs.293885  Hs.82109  \n",
       "0     -1.170     -0.070     -0.164    -0.680  \n",
       "1     -1.038     -0.830      0.065    -0.711  \n",
       "2     -0.394     -1.313     -1.117     0.428  \n",
       "3      0.178      0.083     -0.409    -0.167  \n",
       "4     -0.848     -1.383      0.193     0.592  \n",
       "\n",
       "[5 rows x 308 columns]"
      ]
     },
     "execution_count": 2,
     "metadata": {},
     "output_type": "execute_result"
    }
   ],
   "source": [
    "dataset = pd.read_csv('breast_cancer_genomic.csv', encoding='UTF-8')\n",
    "dataset.head()"
   ]
  },
  {
   "cell_type": "code",
   "execution_count": 3,
   "id": "72bf5314",
   "metadata": {},
   "outputs": [],
   "source": [
    "y = dataset['Class'].values\n",
    "X = dataset.iloc[:, 2:].values"
   ]
  },
  {
   "cell_type": "code",
   "execution_count": 4,
   "id": "db1121e0",
   "metadata": {},
   "outputs": [],
   "source": [
    "from sklearn.model_selection import train_test_split\n",
    "X_train, X_test, y_train, y_test = train_test_split(X, y, test_size=0.2, random_state=0)"
   ]
  },
  {
   "cell_type": "code",
   "execution_count": 5,
   "id": "04a668e6",
   "metadata": {},
   "outputs": [],
   "source": [
    "from sklearn import metrics\n",
    "from termcolor import colored\n",
    "from sklearn.model_selection import GridSearchCV"
   ]
  },
  {
   "cell_type": "code",
   "execution_count": 6,
   "id": "c262153c",
   "metadata": {},
   "outputs": [
    {
     "name": "stdout",
     "output_type": "stream",
     "text": [
      "\u001b[32mBest parameters:\u001b[0m {'C': 0.005, 'gamma': 0.001, 'kernel': 'linear'} \n",
      "\n"
     ]
    }
   ],
   "source": [
    "#SVC\n",
    "from sklearn.svm import SVC\n",
    "\n",
    "svc_parameters = {'kernel':('linear', 'sigmoid', 'rbf', 'poly'), \n",
    "                  'gamma': [0.001 ,0.01 ,0.1, 1, 10, 100], \n",
    "                  'C':[0.005, 0.0053, 0.0054, 0.0055, 0.006, 0.007, 0.008, 0.009, 0.01, 0.02, 0.03, 0.1, 0.2, 0.5, 0.75, 1, 5, 10]}\n",
    "\n",
    "svc = SVC()\n",
    "\n",
    "svc_clf = GridSearchCV(estimator=svc, param_grid=svc_parameters, scoring='accuracy', cv=10, n_jobs=-1) # n_jobs -> number of parallel jobs\n",
    "                                               # -1 -> whatever the architecture allows\n",
    "\n",
    "svc_clf.fit(X_train, y_train)\n",
    "\n",
    "print(colored('Best parameters:', 'green'), svc_clf.best_params_,\"\\n\") # print best parameters\n"
   ]
  },
  {
   "cell_type": "code",
   "execution_count": 7,
   "id": "c5189d6b",
   "metadata": {},
   "outputs": [
    {
     "name": "stdout",
     "output_type": "stream",
     "text": [
      "\u001b[32mBest parameters:\u001b[0m {'C': 0.1, 'tol': 0.65} \n",
      "\n"
     ]
    }
   ],
   "source": [
    "#MLR\n",
    "from sklearn.linear_model import LogisticRegression\n",
    "\n",
    "mlr_parameters = [{'C': [1e-03 ,1e-02 ,1e-01, 1, 10, 15, 16, 20, 30, 40, 50, 60, 90, 100], \n",
    "                   'tol': [1e-07 ,1e-06 ,1e-05, 1e-04, 1e-03, 1e-02, 1e-01, \n",
    "                           0.64, 0.65, 0.66, 0.7, 0.8, 0.9, 1]}]\n",
    "\n",
    "mlr = LogisticRegression(multi_class='multinomial', solver='newton-cg', penalty='l2')\n",
    "\n",
    "mlr_clf = GridSearchCV(estimator=mlr, param_grid=mlr_parameters, scoring='accuracy', cv=10, n_jobs=-1)\n",
    "\n",
    "mlr_clf.fit(X_train, y_train)\n",
    "\n",
    "print(colored('Best parameters:', 'green'), mlr_clf.best_params_,\"\\n\") # print best parameters\n",
    "\n"
   ]
  },
  {
   "cell_type": "code",
   "execution_count": 8,
   "id": "d08adf25",
   "metadata": {},
   "outputs": [
    {
     "name": "stdout",
     "output_type": "stream",
     "text": [
      "\u001b[32mBest parameters:\u001b[0m {'max_depth': 19, 'max_features': 180} \n",
      "\n"
     ]
    }
   ],
   "source": [
    "#DT\n",
    "from sklearn.tree import DecisionTreeClassifier\n",
    "\n",
    "dt_parameters = [{'max_features': [160, 170, 180, 185, 190, 195, 200, 300] , \n",
    "                  'max_depth': [1, 2, 3, 4, 5, 6, 7, 8, 9, 10, 11, 12, 13, 14, 15, 16, 17, 18, 19, 20]}]\n",
    "dt = DecisionTreeClassifier()\n",
    "\n",
    "dt_clf = GridSearchCV(estimator=dt, param_grid=dt_parameters, scoring='accuracy', cv=10, n_jobs=-1)\n",
    "\n",
    "dt_clf.fit(X_train, y_train)\n",
    "\n",
    "print(colored('Best parameters:', 'green'), dt_clf.best_params_,\"\\n\") # print best parameters\n",
    "\n"
   ]
  },
  {
   "cell_type": "code",
   "execution_count": 9,
   "id": "46c44428",
   "metadata": {},
   "outputs": [],
   "source": [
    "from sklearn import metrics\n",
    "import matplotlib.pyplot as plt\n",
    "from sklearn.model_selection import StratifiedKFold\n",
    "\n",
    "skf = StratifiedKFold(n_splits=10, shuffle=True, random_state=0)\n",
    "\n",
    "svc_accuracy = []\n",
    "mlr_accuracy = []\n",
    "dt_accuracy = []\n",
    "\n",
    "svc_cm = 0\n",
    "mlr_cm = 0\n",
    "dt_cm = 0\n",
    "\n",
    "clf_svc_best = SVC(kernel = svc_clf.best_params_['kernel'], \n",
    "                   gamma = svc_clf.best_params_['gamma'], \n",
    "                   C = svc_clf.best_params_['C'])\n",
    "\n",
    "clf_mlr_best = LogisticRegression(multi_class='multinomial', \n",
    "                                  solver='newton-cg', \n",
    "                                  penalty='l2', \n",
    "                                  C = mlr_clf.best_params_['C'], \n",
    "                                  tol = mlr_clf.best_params_['tol'])\n",
    "\n",
    "clf_dt_best = DecisionTreeClassifier(max_depth = dt_clf.best_params_['max_depth'], \n",
    "                                     max_features = dt_clf.best_params_['max_features'])\n",
    "\n",
    "for train_index, test_index in skf.split(X, y):\n",
    "    x_train_fold, x_test_fold = X[train_index], X[test_index]\n",
    "    y_train_fold, y_test_fold = y[train_index], y[test_index]\n",
    "   \n",
    "    svc.fit(x_train_fold, y_train_fold)\n",
    "    mlr.fit(x_train_fold, y_train_fold)\n",
    "    dt.fit(x_train_fold, y_train_fold)\n",
    "    \n",
    "    predicted_svc = svc.predict(x_test_fold)\n",
    "    predicted_mlr = mlr.predict(x_test_fold)\n",
    "    predicted_dt = dt.predict(x_test_fold)\n",
    "    \n",
    "    svc_accuracy.append(svc.score(x_test_fold, y_test_fold))\n",
    "    mlr_accuracy.append(mlr.score(x_test_fold, y_test_fold))\n",
    "    dt_accuracy.append(dt.score(x_test_fold, y_test_fold))\n",
    "    \n",
    "    svc_cm += metrics.confusion_matrix(y_test_fold, predicted_svc)\n",
    "    mlr_cm += metrics.confusion_matrix(y_test_fold, predicted_mlr)\n",
    "    dt_cm += metrics.confusion_matrix(y_test_fold, predicted_dt)"
   ]
  },
  {
   "cell_type": "code",
   "execution_count": 89,
   "id": "ca658449",
   "metadata": {},
   "outputs": [],
   "source": [
    "import seaborn as sebrn\n",
    "import matplotlib.pyplot as atlas\n",
    "\n",
    "cancer_labels = ['Luminal B', 'Luminal A', 'Normal-like', 'Basal-like', 'HER2+']\n",
    "\n",
    "def ConfusionMatrixConstructor(matrix):\n",
    "    fx = sebrn.heatmap(matrix, annot=True, cmap='Blues', xticklabels='auto', yticklabels='auto', linewidths=4, linecolor='black', cbar=False)\n",
    "    fx.set_title('Confusion Matrix\\n');\n",
    "    fx.set_xlabel('\\nPredicted Values')\n",
    "    fx.set_ylabel('Actual Values\\n');\n",
    "    fx.xaxis.set_ticklabels(cancer_labels)\n",
    "    fx.yaxis.set_ticklabels(cancer_labels)\n",
    "    fx.set_yticklabels(fx.get_yticklabels(),rotation = 0)\n",
    "    atlas.show()"
   ]
  },
  {
   "cell_type": "code",
   "execution_count": 90,
   "id": "cf252bbc",
   "metadata": {},
   "outputs": [],
   "source": [
    "from statistics import mean, stdev\n",
    "\n",
    "def OverallAccuracyReport(model_accuracy):\n",
    "    return ('%.3f' % mean(model_accuracy))\n",
    "\n",
    "def OverallSdvReport(model_accuracy):\n",
    "    return ('+/- %.3f' % stdev(model_accuracy) )\n"
   ]
  },
  {
   "cell_type": "code",
   "execution_count": 91,
   "id": "9048e9a4",
   "metadata": {},
   "outputs": [],
   "source": [
    "def ReportForOneClass(matrix, class_index):\n",
    "    i = 0\n",
    "    j = 0\n",
    "    \n",
    "    tp = 0\n",
    "    fp = 0\n",
    "    tn = 0\n",
    "    fn = 0\n",
    "    \n",
    "    for row in matrix:\n",
    "        for element in row:\n",
    "            if(i == class_index and j == class_index):\n",
    "                tp += element\n",
    "            \n",
    "            if(i == class_index and j != class_index):\n",
    "                fp += element\n",
    "                \n",
    "            if(i != class_index and j == class_index):\n",
    "                fn += element\n",
    "            \n",
    "            if(i != class_index and j != class_index):\n",
    "                tn += element\n",
    "                \n",
    "            j+=1\n",
    "        \n",
    "        j = 0\n",
    "        i+=1\n",
    "    \n",
    "    total_predictions = tp + fp + tn + fn\n",
    "    accuracy = round(((tp + tn) / total_predictions), 2)\n",
    "    recall = round((tp / (tp + fn)), 2)\n",
    "    precision = round((tp / (tp + fp)), 2)\n",
    "    f_measure = round(((2*recall*precision) / (recall + precision)), 2)\n",
    "    \n",
    "    result = [accuracy, recall, precision, f_measure]\n",
    "    return result"
   ]
  },
  {
   "cell_type": "code",
   "execution_count": 92,
   "id": "c3ed5242",
   "metadata": {},
   "outputs": [],
   "source": [
    "def ConfusionMatrixReport(matrix):\n",
    "    upper_limit = matrix.shape[0]\n",
    "    matrix_results = []\n",
    "    for i in range(0, upper_limit):\n",
    "        matrix_results.append(ReportForOneClass(matrix, i))\n",
    "        \n",
    "    return matrix_results"
   ]
  },
  {
   "cell_type": "code",
   "execution_count": 93,
   "id": "67b660e6",
   "metadata": {},
   "outputs": [],
   "source": [
    "def ReportConstructor(result, accuracy):\n",
    "    df1 = pd.DataFrame(result,\n",
    "                      index=pd.Index(cancer_labels),\n",
    "                     columns = ['Accuracy', 'Precision', 'Recall', 'F1 Score'])\n",
    "    df2 = pd.DataFrame([[OverallAccuracyReport(accuracy)]], index = pd.Index(['Overall Accuracy: ']), columns = [''])\n",
    "    df3 = pd.DataFrame([[OverallSdvReport(accuracy)]], index = pd.Index(['Standard Deviation: ']), columns = [''])\n",
    "    print(df1)\n",
    "    print(df2)\n",
    "    print(df3)"
   ]
  },
  {
   "cell_type": "code",
   "execution_count": 94,
   "id": "fdf8e743",
   "metadata": {},
   "outputs": [],
   "source": [
    "def ReportGenerator(model_name, model_cm, model_accuracy):\n",
    "    print(model_name + ' model:')\n",
    "    ConfusionMatrixConstructor(model_cm)\n",
    "    print('\\tModel Classification Report:\\n')\n",
    "    result = ConfusionMatrixReport(model_cm)\n",
    "    ReportConstructor(result, model_accuracy)"
   ]
  },
  {
   "cell_type": "code",
   "execution_count": 95,
   "id": "5e930184",
   "metadata": {},
   "outputs": [
    {
     "name": "stdout",
     "output_type": "stream",
     "text": [
      "SVC model:\n"
     ]
    },
    {
     "data": {
      "image/png": "[encoded data removed]",
      "text/plain": [
       "<Figure size 432x288 with 1 Axes>"
      ]
     },
     "metadata": {
      "needs_background": "light"
     },
     "output_type": "display_data"
    },
    {
     "name": "stdout",
     "output_type": "stream",
     "text": [
      "\tModel Classification Report:\n",
      "\n",
      "             Accuracy  Precision  Recall  F1 Score\n",
      "Luminal B        0.96       0.97    0.83      0.89\n",
      "Luminal A        0.93       0.83    1.00      0.91\n",
      "Normal-like      0.95       1.00    0.32      0.48\n",
      "Basal-like       0.98       0.95    0.95      0.95\n",
      "HER2+            0.98       0.87    0.93      0.90\n",
      "                         \n",
      "Overall Accuracy:   0.896\n",
      "                               \n",
      "Standard Deviation:   +/- 0.047\n"
     ]
    }
   ],
   "source": [
    "ReportGenerator('SVC', svc_cm, svc_accuracy)"
   ]
  },
  {
   "cell_type": "code",
   "execution_count": 96,
   "id": "97bc93ca",
   "metadata": {},
   "outputs": [
    {
     "name": "stdout",
     "output_type": "stream",
     "text": [
      "Multinominal Logistic Regression model:\n"
     ]
    },
    {
     "data": {
      "image/png": "[encoded data removed]",
      "text/plain": [
       "<Figure size 432x288 with 1 Axes>"
      ]
     },
     "metadata": {
      "needs_background": "light"
     },
     "output_type": "display_data"
    },
    {
     "name": "stdout",
     "output_type": "stream",
     "text": [
      "\tModel Classification Report:\n",
      "\n",
      "             Accuracy  Precision  Recall  F1 Score\n",
      "Luminal B        0.97       0.95    0.89      0.92\n",
      "Luminal A        0.95       0.91    0.97      0.94\n",
      "Normal-like      0.97       0.93    0.68      0.79\n",
      "Basal-like       0.98       0.94    0.97      0.95\n",
      "HER2+            0.98       0.93    0.93      0.93\n",
      "                         \n",
      "Overall Accuracy:   0.928\n",
      "                               \n",
      "Standard Deviation:   +/- 0.056\n"
     ]
    }
   ],
   "source": [
    "ReportGenerator('Multinominal Logistic Regression', mlr_cm, mlr_accuracy)"
   ]
  },
  {
   "cell_type": "code",
   "execution_count": 97,
   "id": "47f082bd",
   "metadata": {},
   "outputs": [
    {
     "name": "stdout",
     "output_type": "stream",
     "text": [
      "Decision Tree model:\n"
     ]
    },
    {
     "data": {
      "image/png": "[encoded data removed]",
      "text/plain": [
       "<Figure size 432x288 with 1 Axes>"
      ]
     },
     "metadata": {
      "needs_background": "light"
     },
     "output_type": "display_data"
    },
    {
     "name": "stdout",
     "output_type": "stream",
     "text": [
      "\tModel Classification Report:\n",
      "\n",
      "             Accuracy  Precision  Recall  F1 Score\n",
      "Luminal B        0.88       0.67    0.67      0.67\n",
      "Luminal A        0.85       0.79    0.79      0.79\n",
      "Normal-like      0.91       0.36    0.26      0.30\n",
      "Basal-like       0.93       0.85    0.89      0.87\n",
      "HER2+            0.92       0.65    0.69      0.67\n",
      "                         \n",
      "Overall Accuracy:   0.743\n",
      "                               \n",
      "Standard Deviation:   +/- 0.066\n"
     ]
    }
   ],
   "source": [
    "ReportGenerator('Decision Tree', dt_cm, dt_accuracy)"
   ]
  },
  {
   "cell_type": "code",
   "execution_count": 98,
   "id": "d7b312c0",
   "metadata": {},
   "outputs": [],
   "source": [
    "from mlxtend.evaluate import paired_ttest_5x2cv\n",
    "def hypothesisTest(estimator1, estimator2):\n",
    "    t,p = paired_ttest_5x2cv(estimator1=estimator1, estimator2=estimator2, X=X, y=y, scoring='accuracy', random_seed=1)\n",
    "    print('P-value: %.3f, t-Statistic: %.3f' % (p, t))\n",
    "    if p <= 0.05:\n",
    "        print('Difference between mean performance is probably real')\n",
    "    else:\n",
    "        print('Algorithms probably have the same performance')"
   ]
  },
  {
   "cell_type": "code",
   "execution_count": 99,
   "id": "c85500a3",
   "metadata": {},
   "outputs": [
    {
     "name": "stdout",
     "output_type": "stream",
     "text": [
      "P-value: 1.000, t-Statistic: 0.000\n",
      "Algorithms probably have the same performance\n"
     ]
    }
   ],
   "source": [
    "hypothesisTest(svc, mlr)"
   ]
  },
  {
   "cell_type": "code",
   "execution_count": 100,
   "id": "c289f03f",
   "metadata": {},
   "outputs": [
    {
     "name": "stdout",
     "output_type": "stream",
     "text": [
      "P-value: 0.009, t-Statistic: 4.132\n",
      "Difference between mean performance is probably real\n"
     ]
    }
   ],
   "source": [
    "hypothesisTest(svc, dt)"
   ]
  },
  {
   "cell_type": "code",
   "execution_count": 101,
   "id": "c09c133f",
   "metadata": {},
   "outputs": [
    {
     "name": "stdout",
     "output_type": "stream",
     "text": [
      "P-value: 0.056, t-Statistic: 2.471\n",
      "Algorithms probably have the same performance\n"
     ]
    }
   ],
   "source": [
    "hypothesisTest(mlr, dt)"
   ]
  }
 ],
 "metadata": {
  "kernelspec": {
   "display_name": "Python 3 (ipykernel)",
   "language": "python",
   "name": "python3"
  },
  "language_info": {
   "codemirror_mode": {
    "name": "ipython",
    "version": 3
   },
   "file_extension": ".py",
   "mimetype": "text/x-python",
   "name": "python",
   "nbconvert_exporter": "python",
   "pygments_lexer": "ipython3",
   "version": "3.9.7"
  }
 },
 "nbformat": 4,
 "nbformat_minor": 5
}
