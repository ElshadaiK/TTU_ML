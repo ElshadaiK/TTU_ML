{
 "cells": [
  {
   "cell_type": "code",
   "execution_count": 1,
   "id": "9d177f65",
   "metadata": {},
   "outputs": [],
   "source": [
    "# Importing modules\n",
    "import pandas as pd\n",
    "import numpy as np\n",
    "\n",
    "from sklearn.decomposition import PCA\n",
    "from sklearn.ensemble import RandomForestClassifier\n",
    "\n",
    "from sklearn.model_selection import GridSearchCV\n",
    "from sklearn.model_selection import train_test_split\n",
    "\n",
    "from statistics import mean, stdev"
   ]
  },
  {
   "cell_type": "markdown",
   "id": "c09f9e4f",
   "metadata": {},
   "source": [
    "<div class=\"alert alert-block alert-success\">\n",
    "<b>Part one</b> </div>"
   ]
  },
  {
   "cell_type": "code",
   "execution_count": 3,
   "id": "9c68b0c2",
   "metadata": {},
   "outputs": [],
   "source": [
    "labels = ['Full set', '95% variance set', '25 PCA set', '16 PCA set', '9 PCA set', '4 PCA set']"
   ]
  },
  {
   "cell_type": "code",
   "execution_count": 5,
   "id": "fe5279f8",
   "metadata": {},
   "outputs": [],
   "source": [
    "def TransformDataForTable(accuracies):\n",
    "    result = []\n",
    "    result_average = []\n",
    "    result_deviation = []\n",
    "    \n",
    "    for accuracy in accuracies:\n",
    "        result_average.append(round(mean(accuracy), 2))\n",
    "        result_deviation.append(round(stdev(accuracy), 2))\n",
    "        \n",
    "    \n",
    "    result.append(result_average)\n",
    "    result.append(result_deviation)\n",
    "    \n",
    "    transposed = np.transpose(result)\n",
    "    \n",
    "    return transposed"
   ]
  },
  {
   "cell_type": "code",
   "execution_count": 6,
   "id": "1bbfc58f",
   "metadata": {},
   "outputs": [],
   "source": [
    "def ReportConstructor(accuracies):\n",
    "    df1 = pd.DataFrame( TransformDataForTable(accuracies),\n",
    "                        index = pd.Index(labels),\n",
    "                        columns = ['Average Accuracy', 'Standard Deviation'])\n",
    "    print(df1)"
   ]
  },
  {
   "cell_type": "code",
   "execution_count": 7,
   "id": "399b7b0b",
   "metadata": {},
   "outputs": [],
   "source": [
    "# Initializing arrays \n",
    "accuracy_full = []\n",
    "accuracy_95p = []\n",
    "accuracy_25 = []\n",
    "accuracy_16 = []\n",
    "accuracy_9 = []\n",
    "accuracy_4 = []"
   ]
  },
  {
   "cell_type": "code",
   "execution_count": 8,
   "id": "5a7de460",
   "metadata": {},
   "outputs": [
    {
     "ename": "NameError",
     "evalue": "name 'pd' is not defined",
     "output_type": "error",
     "traceback": [
      "\u001b[0;31m---------------------------------------------------------------------------\u001b[0m",
      "\u001b[0;31mNameError\u001b[0m                                 Traceback (most recent call last)",
      "\u001b[0;32m/var/folders/z8/_vvjvjp17jx590_gh4qpr1z40000gn/T/ipykernel_24277/3051565884.py\u001b[0m in \u001b[0;36m<module>\u001b[0;34m\u001b[0m\n\u001b[1;32m      1\u001b[0m \u001b[0;31m# In this part of the program we will read the data and separate it into two variables (X - protein readings, Y - labeled cancer type)\u001b[0m\u001b[0;34m\u001b[0m\u001b[0;34m\u001b[0m\u001b[0m\n\u001b[0;32m----> 2\u001b[0;31m \u001b[0mdataset\u001b[0m \u001b[0;34m=\u001b[0m \u001b[0mpd\u001b[0m\u001b[0;34m.\u001b[0m\u001b[0mread_csv\u001b[0m\u001b[0;34m(\u001b[0m\u001b[0;34m'breast_cancer_genomic.csv'\u001b[0m\u001b[0;34m)\u001b[0m\u001b[0;34m\u001b[0m\u001b[0;34m\u001b[0m\u001b[0m\n\u001b[0m\u001b[1;32m      3\u001b[0m \u001b[0mdataset\u001b[0m\u001b[0;34m.\u001b[0m\u001b[0mpop\u001b[0m\u001b[0;34m(\u001b[0m\u001b[0;34m'CLID'\u001b[0m\u001b[0;34m)\u001b[0m\u001b[0;34m\u001b[0m\u001b[0;34m\u001b[0m\u001b[0m\n\u001b[1;32m      4\u001b[0m \u001b[0;34m\u001b[0m\u001b[0m\n\u001b[1;32m      5\u001b[0m \u001b[0my\u001b[0m \u001b[0;34m=\u001b[0m \u001b[0mdataset\u001b[0m\u001b[0;34m[\u001b[0m\u001b[0;34m'Class'\u001b[0m\u001b[0;34m]\u001b[0m\u001b[0;34m.\u001b[0m\u001b[0mvalues\u001b[0m\u001b[0;34m\u001b[0m\u001b[0;34m\u001b[0m\u001b[0m\n",
      "\u001b[0;31mNameError\u001b[0m: name 'pd' is not defined"
     ]
    }
   ],
   "source": [
    "# In this part of the program we will read the data and separate it into two variables (X - protein readings, Y - labeled cancer type) \n",
    "dataset = pd.read_csv('breast_cancer_genomic.csv')\n",
    "dataset.pop('CLID')\n",
    "\n",
    "y = dataset['Class'].values\n",
    "dataset.pop('Class')\n",
    "x = dataset.values"
   ]
  },
  {
   "cell_type": "code",
   "execution_count": 8,
   "id": "6455b23c",
   "metadata": {
    "scrolled": true
   },
   "outputs": [],
   "source": [
    "# In this part we will initilaze the PCA classifiers that are needed for the next steps in our program\n",
    "pca_95p = PCA(n_components = 0.95)\n",
    "pca_25 = PCA(n_components = 25)\n",
    "pca_16 = PCA(n_components = 16)\n",
    "pca_9 = PCA(n_components = 9)\n",
    "pca_4 = PCA(n_components = 4)"
   ]
  },
  {
   "cell_type": "code",
   "execution_count": 9,
   "id": "18573c48",
   "metadata": {},
   "outputs": [],
   "source": [
    "# Initializing RandomForestTree Classifier and GridSearchCV \n",
    "rf_clf_params = [{'n_estimators': [10, 50, 100, 200, 400, 800, 1000]}, {'criterion': ['gini', 'entropy']}]\n",
    "\n",
    "rf_clf = RandomForestClassifier()\n",
    "grid_search = GridSearchCV(estimator = rf_clf, param_grid = rf_clf_params, scoring='accuracy')"
   ]
  },
  {
   "cell_type": "code",
   "execution_count": 10,
   "id": "0e373e92",
   "metadata": {},
   "outputs": [],
   "source": [
    "# In this part of the program we will execute the 10 runs that are needed in order to calculate the model accuracy\n",
    "# Before we go into the section with the runs we first must clear our lists\n",
    "accuracy_full.clear()\n",
    "accuracy_95p.clear()\n",
    "accuracy_25.clear()\n",
    "accuracy_16.clear()\n",
    "accuracy_9.clear()\n",
    "accuracy_4.clear()\n",
    "\n",
    "for i in range(0, 10):\n",
    "    \n",
    "    # Modify how PCA works on X as it has to be done before the train_test_split\n",
    "    x_train, x_test, y_train, y_test = train_test_split(x, y, stratify = y, test_size = 0.2)\n",
    "    \n",
    "    # Performing all of the necessary data reductions\n",
    "    x_train_95p = pca_95p.fit_transform(x_train)\n",
    "    x_test_95p = pca_95p.transform(x_test)\n",
    "    x_train_25 = pca_25.fit_transform(x_train)\n",
    "    x_test_25 = pca_25.transform(x_test)\n",
    "    x_train_16 = pca_16.fit_transform(x_train)\n",
    "    x_test_16 = pca_16.transform(x_test)\n",
    "    x_train_9 = pca_9.fit_transform(x_train)\n",
    "    x_test_9 = pca_9.transform(x_test)\n",
    "    x_train_4 = pca_4.fit_transform(x_train)\n",
    "    x_test_4 = pca_4.transform(x_test)\n",
    "    \n",
    "    best_estimator_full = grid_search.fit(x_train, y_train)\n",
    "    rf_best_full = best_estimator_full.best_estimator_\n",
    "    rf_best_full.fit(x_train, y_train)\n",
    "    predict_full = rf_best_full.predict(x_test)\n",
    "    accuracy_full.append(rf_best_full.score(x_test, y_test))\n",
    "    \n",
    "    best_estimator_95p = grid_search.fit(x_train_95p, y_train)\n",
    "    rf_best_95p = best_estimator_95p.best_estimator_\n",
    "    rf_best_95p.fit(x_train_95p, y_train)\n",
    "    predict_95p = rf_best_95p.predict(x_test_95p)\n",
    "    accuracy_95p.append(rf_best_95p.score(x_test_95p, y_test))\n",
    "    \n",
    "    best_estimator_25 = grid_search.fit(x_train_25, y_train)\n",
    "    rf_best_25 = best_estimator_25.best_estimator_\n",
    "    rf_best_25.fit(x_train_25, y_train)\n",
    "    predict_25 = rf_best_25.predict(x_test_25)\n",
    "    accuracy_25.append(rf_best_25.score(x_test_25, y_test))\n",
    "    \n",
    "    best_estimator_16 = grid_search.fit(x_train_16, y_train)\n",
    "    rf_best_16 = best_estimator_16.best_estimator_\n",
    "    rf_best_16.fit(x_train_16, y_train)\n",
    "    predict_16 = rf_best_16.predict(x_test_16)\n",
    "    accuracy_16.append(rf_best_16.score(x_test_16, y_test))\n",
    "    \n",
    "    best_estimator_9 = grid_search.fit(x_train_9, y_train)\n",
    "    rf_best_9 = best_estimator_9.best_estimator_\n",
    "    rf_best_9.fit(x_train_9, y_train)\n",
    "    predict_9 = rf_best_9.predict(x_test_9)\n",
    "    accuracy_9.append(rf_best_9.score(x_test_9, y_test))\n",
    "    \n",
    "    best_estimator_4 = grid_search.fit(x_train_4, y_train)\n",
    "    rf_best_4 = best_estimator_4.best_estimator_\n",
    "    rf_best_4.fit(x_train_4, y_train)\n",
    "    predict_4 = rf_best_4.predict(x_test_4)\n",
    "    accuracy_4.append(rf_best_4.score(x_test_4, y_test))"
   ]
  },
  {
   "cell_type": "code",
   "execution_count": 11,
   "id": "ebecb8e1",
   "metadata": {},
   "outputs": [],
   "source": [
    "accuracies = []\n",
    "accuracies.append(accuracy_full)\n",
    "accuracies.append(accuracy_95p)\n",
    "accuracies.append(accuracy_25)\n",
    "accuracies.append(accuracy_16)\n",
    "accuracies.append(accuracy_9)\n",
    "accuracies.append(accuracy_4)"
   ]
  },
  {
   "cell_type": "code",
   "execution_count": 12,
   "id": "817857d7",
   "metadata": {},
   "outputs": [
    {
     "name": "stdout",
     "output_type": "stream",
     "text": [
      "                  Average Accuracy  Standard Deviation\n",
      "Full set                      0.81                0.05\n",
      "95% variance set              0.81                0.04\n",
      "25 PCA set                    0.87                0.05\n",
      "16 PCA set                    0.90                0.03\n",
      "9 PCA set                     0.90                0.02\n",
      "4 PCA set                     0.90                0.05\n"
     ]
    }
   ],
   "source": [
    "ReportConstructor(accuracies)"
   ]
  },
  {
   "cell_type": "code",
   "execution_count": 27,
   "id": "7d8cb7bc",
   "metadata": {},
   "outputs": [],
   "source": [
    "## PART TWO ##"
   ]
  },
  {
   "cell_type": "code",
   "execution_count": 17,
   "id": "10675340",
   "metadata": {},
   "outputs": [],
   "source": [
    "# First we need to transform the data\n",
    "for i in range(0, y.size):\n",
    "    if(y[i] == 4):\n",
    "        y[i] = 1\n",
    "    else:\n",
    "        y[i] = 0"
   ]
  }
 ],
 "metadata": {
  "kernelspec": {
   "display_name": "Python 3 (ipykernel)",
   "language": "python",
   "name": "python3"
  },
  "language_info": {
   "codemirror_mode": {
    "name": "ipython",
    "version": 3
   },
   "file_extension": ".py",
   "mimetype": "text/x-python",
   "name": "python",
   "nbconvert_exporter": "python",
   "pygments_lexer": "ipython3",
   "version": "3.9.7"
  }
 },
 "nbformat": 4,
 "nbformat_minor": 5
}
