{
 "cells": [
  {
   "cell_type": "markdown",
   "metadata": {},
   "source": [
    "# Support Vector Machines"
   ]
  },
  {
   "cell_type": "markdown",
   "metadata": {},
   "source": [
    "#### Import necessary libraries"
   ]
  },
  {
   "cell_type": "code",
   "execution_count": 1,
   "metadata": {},
   "outputs": [],
   "source": [
    "import numpy as np\n",
    "import pandas as pd\n",
    "import matplotlib.pyplot as plt\n",
    "\n",
    "from sklearn import datasets  # library to download and use data from"
   ]
  },
  {
   "cell_type": "markdown",
   "metadata": {},
   "source": [
    "### Import data"
   ]
  },
  {
   "cell_type": "code",
   "execution_count": 2,
   "metadata": {},
   "outputs": [
    {
     "name": "stdout",
     "output_type": "stream",
     "text": [
      "Dataset loaded.\n"
     ]
    }
   ],
   "source": [
    "dataset = datasets.load_iris()\n",
    "print(\"Dataset loaded.\")"
   ]
  },
  {
   "cell_type": "code",
   "execution_count": 3,
   "metadata": {},
   "outputs": [],
   "source": [
    "# Prepare X and y with features and ground truth\n",
    "X = dataset.data[:, :2]\n",
    "y = dataset.target"
   ]
  },
  {
   "cell_type": "code",
   "execution_count": 4,
   "metadata": {},
   "outputs": [],
   "source": [
    "# now split the data into training data and test data (80/20 split)\n",
    "# random_state = k sets a specific random seed\n",
    "# since random_state is fixed, this call will always produce the same split\n",
    "# if you leave out the random_state value, you will get a different random split when you run it again\n",
    "from sklearn.model_selection import train_test_split\n",
    "X_train, X_test, y_train, y_test = train_test_split(X, y, test_size=0.2, random_state=0)"
   ]
  },
  {
   "cell_type": "markdown",
   "metadata": {},
   "source": [
    "### For documentation (possible parameters, attributes and example code) on the SVC classifier, click on [SVC](https://scikit-learn.org/stable/modules/generated/sklearn.svm.SVC.html#sklearn.svm.SVC) "
   ]
  },
  {
   "cell_type": "code",
   "execution_count": 5,
   "metadata": {},
   "outputs": [],
   "source": [
    "from sklearn.svm import SVC\n",
    "\n",
    "# create our model and fit it to our training data\n",
    "clf = SVC(kernel='rbf',C=1) # default values for kernel and C \n",
    "clf.fit(X_train, y_train) \n",
    "\n",
    "# make predictions on test data\n",
    "predicted = clf.predict(X_test)"
   ]
  },
  {
   "cell_type": "markdown",
   "metadata": {},
   "source": [
    "### Performance analysis of the classifier"
   ]
  },
  {
   "cell_type": "code",
   "execution_count": 6,
   "metadata": {
    "scrolled": true
   },
   "outputs": [
    {
     "name": "stdout",
     "output_type": "stream",
     "text": [
      "\u001b[32mconfusion matrix:\n",
      "\u001b[0m [[11  0  0]\n",
      " [ 0  8  5]\n",
      " [ 0  3  3]]\n",
      "\u001b[34m\n",
      "accuracy:\u001b[0m 0.7333333333333333\n",
      "\u001b[32m\n",
      "classification report:\n",
      "\u001b[0m               precision    recall  f1-score   support\n",
      "\n",
      "           0       1.00      1.00      1.00        11\n",
      "           1       0.73      0.62      0.67        13\n",
      "           2       0.38      0.50      0.43         6\n",
      "\n",
      "    accuracy                           0.73        30\n",
      "   macro avg       0.70      0.71      0.70        30\n",
      "weighted avg       0.76      0.73      0.74        30\n",
      "\n"
     ]
    }
   ],
   "source": [
    "from sklearn import metrics\n",
    "from termcolor import colored\n",
    "\n",
    "# print confusion matrix. \n",
    "# **Note** since the ground truth is not binary (has 3 labels), the confusion matrix is a 3x3 matrix\n",
    "print(colored('confusion matrix:\\n', 'green'), metrics.confusion_matrix(y_test, predicted))\n",
    "\n",
    "# print classifier accuracy\n",
    "print(colored('\\naccuracy:', 'blue'), metrics.accuracy_score(y_test, predicted))\n",
    "\n",
    "# print classification report (Precision, reall, and F1 score for each label, and average)\n",
    "print(colored('\\nclassification report:\\n', 'green'),metrics.classification_report(y_test, predicted))"
   ]
  },
  {
   "cell_type": "markdown",
   "metadata": {},
   "source": [
    "**<font color=\"red\" size=3>Experiment with parameter values</font>**"
   ]
  },
  {
   "cell_type": "code",
   "execution_count": 7,
   "metadata": {},
   "outputs": [
    {
     "name": "stdout",
     "output_type": "stream",
     "text": [
      "\u001b[32mconfusion matrix:\n",
      "\u001b[0m [[11  0  0]\n",
      " [ 0  8  5]\n",
      " [ 0  4  2]]\n",
      "\u001b[34m\n",
      "accuracy:\u001b[0m 0.7\n",
      "\u001b[32m\n",
      "classification report:\n",
      "\u001b[0m               precision    recall  f1-score   support\n",
      "\n",
      "           0       1.00      1.00      1.00        11\n",
      "           1       0.67      0.62      0.64        13\n",
      "           2       0.29      0.33      0.31         6\n",
      "\n",
      "    accuracy                           0.70        30\n",
      "   macro avg       0.65      0.65      0.65        30\n",
      "weighted avg       0.71      0.70      0.71        30\n",
      "\n"
     ]
    }
   ],
   "source": [
    "# try out other kernels ('linear' 'poly' 'sigmoid') and other values for C\n",
    "clf = SVC(kernel='linear',C=5) # default values for kernel and C \n",
    "clf.fit(X_train, y_train) \n",
    "\n",
    "predicted = clf.predict(X_test)\n",
    "print(colored('confusion matrix:\\n', 'green'), metrics.confusion_matrix(y_test, predicted))\n",
    "print(colored('\\naccuracy:', 'blue'), metrics.accuracy_score(y_test, predicted))\n",
    "print(colored('\\nclassification report:\\n', 'green'),metrics.classification_report(y_test, predicted))"
   ]
  },
  {
   "cell_type": "markdown",
   "metadata": {},
   "source": [
    "#### Hyperparameter tuning using GridSearchCV "
   ]
  },
  {
   "cell_type": "code",
   "execution_count": 14,
   "metadata": {
    "scrolled": true
   },
   "outputs": [
    {
     "name": "stdout",
     "output_type": "stream",
     "text": [
      "\u001b[32mBest parameters:\u001b[0m {'C': 1, 'kernel': 'rbf'} \n",
      "\n",
      "\u001b[32m\n",
      "accuracy:\u001b[0m 0.7333333333333333\n",
      "\u001b[32m\n",
      "classification report:\n",
      "\u001b[0m               precision    recall  f1-score   support\n",
      "\n",
      "           0       1.00      1.00      1.00        11\n",
      "           1       0.73      0.62      0.67        13\n",
      "           2       0.38      0.50      0.43         6\n",
      "\n",
      "    accuracy                           0.73        30\n",
      "   macro avg       0.70      0.71      0.70        30\n",
      "weighted avg       0.76      0.73      0.74        30\n",
      "\n",
      "\u001b[32mconfusion matrix:\n",
      "\u001b[0m [[11  0  0]\n",
      " [ 0  8  5]\n",
      " [ 0  3  3]]\n"
     ]
    }
   ],
   "source": [
    "from sklearn.model_selection import GridSearchCV\n",
    "\n",
    "parameters = {'kernel':('linear', 'rbf', 'poly'), 'C':[1, 5, 10]}\n",
    "\n",
    "svc = SVC()\n",
    "\n",
    "clf = GridSearchCV(svc, parameters, n_jobs=-1) # n_jobs -> number of parallel jobs\n",
    "                                               # -1 -> whatever the architecture allows\n",
    "\n",
    "clf.fit(X_train, y_train)\n",
    "\n",
    "print(colored('Best parameters:', 'green'), clf.best_params_,\"\\n\") # print best parameters\n",
    "\n",
    "# make predictions on test data\n",
    "predicted = clf.predict(X_test)\n",
    "\n",
    "# print accuracy\n",
    "print(colored('\\naccuracy:', 'green'), metrics.accuracy_score(y_test, predicted))\n",
    "\n",
    "# print precision and recall statistics\n",
    "print(colored('\\nclassification report:\\n', 'green'),metrics.classification_report(y_test, predicted))\n",
    "\n",
    "# print confusion matrix\n",
    "print(colored('confusion matrix:\\n', 'green'),metrics.confusion_matrix(y_test, predicted))"
   ]
  },
  {
   "cell_type": "markdown",
   "metadata": {},
   "source": [
    "**<font color=\"red\" size=4>Now follow the code above and implement LinearSVC on the same data. Fit classifier and predict, then calculate Accuracy, print confusion matrix and classification report.</font>**"
   ]
  },
  {
   "cell_type": "markdown",
   "metadata": {},
   "source": [
    "### Documentation for [LinearSVC](https://scikit-learn.org/stable/modules/generated/sklearn.svm.LinearSVC.html#sklearn.svm.LinearSVC) "
   ]
  },
  {
   "cell_type": "code",
   "execution_count": 16,
   "metadata": {},
   "outputs": [
    {
     "name": "stdout",
     "output_type": "stream",
     "text": [
      "[1 1 0 2 0 2 0 2 2 2 2 2 2 2 2 0 2 1 0 0 1 1 0 0 2 0 0 2 1 0]\n",
      "\u001b[32m\n",
      "accuracy:\u001b[0m 0.6333333333333333\n",
      "\u001b[32m\n",
      "classification report:\n",
      "\u001b[0m               precision    recall  f1-score   support\n",
      "\n",
      "           0       1.00      1.00      1.00        11\n",
      "           1       0.67      0.31      0.42        13\n",
      "           2       0.31      0.67      0.42         6\n",
      "\n",
      "    accuracy                           0.63        30\n",
      "   macro avg       0.66      0.66      0.61        30\n",
      "weighted avg       0.72      0.63      0.63        30\n",
      "\n",
      "\u001b[32mconfusion matrix:\n",
      "\u001b[0m [[11  0  0]\n",
      " [ 0  4  9]\n",
      " [ 0  2  4]]\n"
     ]
    },
    {
     "name": "stderr",
     "output_type": "stream",
     "text": [
      "/Users/elshadai/anaconda3/lib/python3.9/site-packages/sklearn/svm/_base.py:1206: ConvergenceWarning: Liblinear failed to converge, increase the number of iterations.\n",
      "  warnings.warn(\n"
     ]
    }
   ],
   "source": [
    "# Import linear SVC (Everything else has been imported earlier)\n",
    "from sklearn.svm import LinearSVC\n",
    "# Only implement the classifier and calculate performance. No need to do train_test_split.\n",
    "\n",
    "clf = LinearSVC(verbose=0)\n",
    "clf.fit(X_train, y_train)\n",
    "# print(colored('Best parameters:', 'green'), clf.best_params_,\"\\n\") # print best parameters\n",
    "\n",
    "# make predictions on test data\n",
    "predicted = clf.predict(X_test)\n",
    "\n",
    "# print accuracy\n",
    "print(colored('\\naccuracy:', 'green'), metrics.accuracy_score(y_test, predicted))\n",
    "\n",
    "# print precision and recall statistics\n",
    "print(colored('\\nclassification report:\\n', 'green'),metrics.classification_report(y_test, predicted))\n",
    "\n",
    "# print confusion matrix\n",
    "print(colored('confusion matrix:\\n', 'green'),metrics.confusion_matrix(y_test, predicted))"
   ]
  },
  {
   "cell_type": "markdown",
   "metadata": {},
   "source": [
    "**<font color=\"red\" size=4>Now find the best parameter for your classifier using GridSearchCV (like shown above). Calculate Accuracy, print best parameters, confusion matrix and classification report.</font>**"
   ]
  },
  {
   "cell_type": "code",
   "execution_count": 29,
   "metadata": {},
   "outputs": [
    {
     "name": "stderr",
     "output_type": "stream",
     "text": [
      "/Users/elshadai/anaconda3/lib/python3.9/site-packages/sklearn/svm/_base.py:1206: ConvergenceWarning: Liblinear failed to converge, increase the number of iterations.\n",
      "  warnings.warn(\n",
      "/Users/elshadai/anaconda3/lib/python3.9/site-packages/sklearn/svm/_base.py:1206: ConvergenceWarning: Liblinear failed to converge, increase the number of iterations.\n",
      "  warnings.warn(\n",
      "/Users/elshadai/anaconda3/lib/python3.9/site-packages/sklearn/svm/_base.py:1206: ConvergenceWarning: Liblinear failed to converge, increase the number of iterations.\n",
      "  warnings.warn(\n",
      "/Users/elshadai/anaconda3/lib/python3.9/site-packages/sklearn/svm/_base.py:1206: ConvergenceWarning: Liblinear failed to converge, increase the number of iterations.\n",
      "  warnings.warn(\n",
      "/Users/elshadai/anaconda3/lib/python3.9/site-packages/sklearn/svm/_base.py:1206: ConvergenceWarning: Liblinear failed to converge, increase the number of iterations.\n",
      "  warnings.warn(\n",
      "/Users/elshadai/anaconda3/lib/python3.9/site-packages/sklearn/svm/_base.py:1206: ConvergenceWarning: Liblinear failed to converge, increase the number of iterations.\n",
      "  warnings.warn(\n",
      "/Users/elshadai/anaconda3/lib/python3.9/site-packages/sklearn/svm/_base.py:1206: ConvergenceWarning: Liblinear failed to converge, increase the number of iterations.\n",
      "  warnings.warn(\n",
      "/Users/elshadai/anaconda3/lib/python3.9/site-packages/sklearn/svm/_base.py:1206: ConvergenceWarning: Liblinear failed to converge, increase the number of iterations.\n",
      "  warnings.warn(\n",
      "/Users/elshadai/anaconda3/lib/python3.9/site-packages/sklearn/svm/_base.py:1206: ConvergenceWarning: Liblinear failed to converge, increase the number of iterations.\n",
      "  warnings.warn(\n",
      "/Users/elshadai/anaconda3/lib/python3.9/site-packages/sklearn/svm/_base.py:1206: ConvergenceWarning: Liblinear failed to converge, increase the number of iterations.\n",
      "  warnings.warn(\n",
      "/Users/elshadai/anaconda3/lib/python3.9/site-packages/sklearn/svm/_base.py:1206: ConvergenceWarning: Liblinear failed to converge, increase the number of iterations.\n",
      "  warnings.warn(\n",
      "/Users/elshadai/anaconda3/lib/python3.9/site-packages/sklearn/svm/_base.py:1206: ConvergenceWarning: Liblinear failed to converge, increase the number of iterations.\n",
      "  warnings.warn(\n",
      "/Users/elshadai/anaconda3/lib/python3.9/site-packages/sklearn/svm/_base.py:1206: ConvergenceWarning: Liblinear failed to converge, increase the number of iterations.\n",
      "  warnings.warn(\n",
      "/Users/elshadai/anaconda3/lib/python3.9/site-packages/sklearn/svm/_base.py:1206: ConvergenceWarning: Liblinear failed to converge, increase the number of iterations.\n",
      "  warnings.warn(\n",
      "/Users/elshadai/anaconda3/lib/python3.9/site-packages/sklearn/svm/_base.py:1206: ConvergenceWarning: Liblinear failed to converge, increase the number of iterations.\n",
      "  warnings.warn(\n",
      "/Users/elshadai/anaconda3/lib/python3.9/site-packages/sklearn/svm/_base.py:1206: ConvergenceWarning: Liblinear failed to converge, increase the number of iterations.\n",
      "  warnings.warn(\n",
      "/Users/elshadai/anaconda3/lib/python3.9/site-packages/sklearn/svm/_base.py:1206: ConvergenceWarning: Liblinear failed to converge, increase the number of iterations.\n",
      "  warnings.warn(\n",
      "/Users/elshadai/anaconda3/lib/python3.9/site-packages/sklearn/svm/_base.py:1206: ConvergenceWarning: Liblinear failed to converge, increase the number of iterations.\n",
      "  warnings.warn(\n",
      "/Users/elshadai/anaconda3/lib/python3.9/site-packages/sklearn/svm/_base.py:1206: ConvergenceWarning: Liblinear failed to converge, increase the number of iterations.\n",
      "  warnings.warn(\n",
      "/Users/elshadai/anaconda3/lib/python3.9/site-packages/sklearn/svm/_base.py:1206: ConvergenceWarning: Liblinear failed to converge, increase the number of iterations.\n",
      "  warnings.warn(\n",
      "/Users/elshadai/anaconda3/lib/python3.9/site-packages/sklearn/svm/_base.py:1206: ConvergenceWarning: Liblinear failed to converge, increase the number of iterations.\n",
      "  warnings.warn(\n",
      "/Users/elshadai/anaconda3/lib/python3.9/site-packages/sklearn/svm/_base.py:1206: ConvergenceWarning: Liblinear failed to converge, increase the number of iterations.\n",
      "  warnings.warn(\n",
      "/Users/elshadai/anaconda3/lib/python3.9/site-packages/sklearn/svm/_base.py:1206: ConvergenceWarning: Liblinear failed to converge, increase the number of iterations.\n",
      "  warnings.warn(\n",
      "/Users/elshadai/anaconda3/lib/python3.9/site-packages/sklearn/svm/_base.py:1206: ConvergenceWarning: Liblinear failed to converge, increase the number of iterations.\n",
      "  warnings.warn(\n",
      "/Users/elshadai/anaconda3/lib/python3.9/site-packages/sklearn/svm/_base.py:1206: ConvergenceWarning: Liblinear failed to converge, increase the number of iterations.\n",
      "  warnings.warn(\n",
      "/Users/elshadai/anaconda3/lib/python3.9/site-packages/sklearn/svm/_base.py:1206: ConvergenceWarning: Liblinear failed to converge, increase the number of iterations.\n",
      "  warnings.warn(\n",
      "/Users/elshadai/anaconda3/lib/python3.9/site-packages/sklearn/svm/_base.py:1206: ConvergenceWarning: Liblinear failed to converge, increase the number of iterations.\n",
      "  warnings.warn(\n",
      "/Users/elshadai/anaconda3/lib/python3.9/site-packages/sklearn/svm/_base.py:1206: ConvergenceWarning: Liblinear failed to converge, increase the number of iterations.\n",
      "  warnings.warn(\n",
      "/Users/elshadai/anaconda3/lib/python3.9/site-packages/sklearn/svm/_base.py:1206: ConvergenceWarning: Liblinear failed to converge, increase the number of iterations.\n",
      "  warnings.warn(\n",
      "/Users/elshadai/anaconda3/lib/python3.9/site-packages/sklearn/svm/_base.py:1206: ConvergenceWarning: Liblinear failed to converge, increase the number of iterations.\n",
      "  warnings.warn(\n",
      "/Users/elshadai/anaconda3/lib/python3.9/site-packages/sklearn/svm/_base.py:1206: ConvergenceWarning: Liblinear failed to converge, increase the number of iterations.\n",
      "  warnings.warn(\n",
      "/Users/elshadai/anaconda3/lib/python3.9/site-packages/sklearn/svm/_base.py:1206: ConvergenceWarning: Liblinear failed to converge, increase the number of iterations.\n",
      "  warnings.warn(\n",
      "/Users/elshadai/anaconda3/lib/python3.9/site-packages/sklearn/svm/_base.py:1206: ConvergenceWarning: Liblinear failed to converge, increase the number of iterations.\n",
      "  warnings.warn(\n",
      "/Users/elshadai/anaconda3/lib/python3.9/site-packages/sklearn/svm/_base.py:1206: ConvergenceWarning: Liblinear failed to converge, increase the number of iterations.\n",
      "  warnings.warn(\n",
      "/Users/elshadai/anaconda3/lib/python3.9/site-packages/sklearn/svm/_base.py:1206: ConvergenceWarning: Liblinear failed to converge, increase the number of iterations.\n",
      "  warnings.warn(\n",
      "/Users/elshadai/anaconda3/lib/python3.9/site-packages/sklearn/svm/_base.py:1206: ConvergenceWarning: Liblinear failed to converge, increase the number of iterations.\n",
      "  warnings.warn(\n"
     ]
    },
    {
     "name": "stdout",
     "output_type": "stream",
     "text": [
      "\u001b[32mBest parameters:\u001b[0m {'SVC__C': 80.01} \n",
      "\n",
      "\u001b[32m\n",
      "accuracy:\u001b[0m 0.6\n",
      "\u001b[32m\n",
      "classification report:\n",
      "\u001b[0m               precision    recall  f1-score   support\n",
      "\n",
      "           0       1.00      1.00      1.00        11\n",
      "           1       0.57      0.31      0.40        13\n",
      "           2       0.25      0.50      0.33         6\n",
      "\n",
      "    accuracy                           0.60        30\n",
      "   macro avg       0.61      0.60      0.58        30\n",
      "weighted avg       0.66      0.60      0.61        30\n",
      "\n",
      "\u001b[32mconfusion matrix:\n",
      "\u001b[0m [[11  0  0]\n",
      " [ 0  4  9]\n",
      " [ 0  3  3]]\n"
     ]
    },
    {
     "name": "stderr",
     "output_type": "stream",
     "text": [
      "/Users/elshadai/anaconda3/lib/python3.9/site-packages/sklearn/svm/_base.py:1206: ConvergenceWarning: Liblinear failed to converge, increase the number of iterations.\n",
      "  warnings.warn(\n"
     ]
    }
   ],
   "source": [
    "# your code here\n",
    "from sklearn.pipeline import Pipeline\n",
    "from sklearn.preprocessing import StandardScaler\n",
    "\n",
    "SVCpipe = Pipeline([('scale', StandardScaler()),\n",
    "                   ('SVC',LinearSVC())])\n",
    "param_grid = {'SVC__C':np.arange(0.01,100,10)}\n",
    "clf = GridSearchCV(SVCpipe,param_grid,cv=4,return_train_score=True)\n",
    "clf.fit(X_train,y_train)\n",
    "\n",
    "print(colored('Best parameters:', 'green'), clf.best_params_,\"\\n\") # print best parameters\n",
    "\n",
    "# make predictions on test data\n",
    "predicted = clf.predict(X_test)\n",
    "\n",
    "# print accuracy\n",
    "print(colored('\\naccuracy:', 'green'), metrics.accuracy_score(y_test, predicted))\n",
    "\n",
    "# print precision and recall statistics\n",
    "print(colored('\\nclassification report:\\n', 'green'),metrics.classification_report(y_test, predicted))\n",
    "\n",
    "# print confusion matrix\n",
    "print(colored('confusion matrix:\\n', 'green'),metrics.confusion_matrix(y_test, predicted))"
   ]
  }
 ],
 "metadata": {
  "kernelspec": {
   "display_name": "Python 3 (ipykernel)",
   "language": "python",
   "name": "python3"
  },
  "language_info": {
   "codemirror_mode": {
    "name": "ipython",
    "version": 3
   },
   "file_extension": ".py",
   "mimetype": "text/x-python",
   "name": "python",
   "nbconvert_exporter": "python",
   "pygments_lexer": "ipython3",
   "version": "3.9.7"
  }
 },
 "nbformat": 4,
 "nbformat_minor": 4
}
